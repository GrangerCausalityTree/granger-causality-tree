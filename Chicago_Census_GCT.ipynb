{
 "cells": [
  {
   "cell_type": "code",
   "execution_count": 1,
   "id": "16843346",
   "metadata": {},
   "outputs": [],
   "source": [
    "# pip install tscluster"
   ]
  },
  {
   "cell_type": "code",
   "execution_count": 2,
   "id": "8c03bfcb",
   "metadata": {},
   "outputs": [],
   "source": [
    "# pip install statsmodels"
   ]
  },
  {
   "cell_type": "markdown",
   "id": "3d07a2d1",
   "metadata": {},
   "source": [
    "# Imports"
   ]
  },
  {
   "cell_type": "code",
   "execution_count": 3,
   "id": "19715d6b",
   "metadata": {},
   "outputs": [],
   "source": [
    "from __future__ import annotations\n",
    "\n",
    "import re\n",
    "import time\n",
    "from itertools import combinations\n",
    "from functools import reduce\n",
    "\n",
    "import warnings\n",
    "warnings.filterwarnings('ignore')\n",
    "\n",
    "import numpy as np\n",
    "import numpy.typing as npt\n",
    "import pandas as pd\n",
    "import geopandas as gpd\n",
    "\n",
    "import matplotlib.pyplot as plt\n",
    "import matplotlib.pylab as pl\n",
    "\n",
    "from tscluster.tskmeans import TSKmeans\n",
    "from tscluster.preprocessing.utils import ntf_to_tnf\n",
    "from tscluster.tsplot import tsplot as tsp\n",
    "\n",
    "from sklearn.cluster import KMeans\n",
    "from statsmodels.tsa.stattools import grangercausalitytests\n",
    "from statsmodels.tsa.stattools import coint\n",
    "from statsmodels.tsa.vector_ar.vecm import coint_johansen\n",
    "import scipy.stats as stats\n",
    "\n",
    "import difflib\n"
   ]
  },
  {
   "cell_type": "code",
   "execution_count": 4,
   "id": "434bce3e",
   "metadata": {},
   "outputs": [
    {
     "data": {
      "text/html": [
       "<div>\n",
       "<style scoped>\n",
       "    .dataframe tbody tr th:only-of-type {\n",
       "        vertical-align: middle;\n",
       "    }\n",
       "\n",
       "    .dataframe tbody tr th {\n",
       "        vertical-align: top;\n",
       "    }\n",
       "\n",
       "    .dataframe thead th {\n",
       "        text-align: right;\n",
       "    }\n",
       "</style>\n",
       "<table border=\"1\" class=\"dataframe\">\n",
       "  <thead>\n",
       "    <tr style=\"text-align: right;\">\n",
       "      <th></th>\n",
       "      <th>X</th>\n",
       "    </tr>\n",
       "  </thead>\n",
       "  <tbody>\n",
       "    <tr>\n",
       "      <th>1</th>\n",
       "      <td>abc 2001</td>\n",
       "    </tr>\n",
       "    <tr>\n",
       "      <th>2</th>\n",
       "      <td>abc\\t25</td>\n",
       "    </tr>\n",
       "    <tr>\n",
       "      <th>3</th>\n",
       "      <td>def v1</td>\n",
       "    </tr>\n",
       "    <tr>\n",
       "      <th>4</th>\n",
       "      <td>3456</td>\n",
       "    </tr>\n",
       "    <tr>\n",
       "      <th>5</th>\n",
       "      <td>abc v2</td>\n",
       "    </tr>\n",
       "    <tr>\n",
       "      <th>6</th>\n",
       "      <td>def\\t01</td>\n",
       "    </tr>\n",
       "    <tr>\n",
       "      <th>7</th>\n",
       "      <td>7655</td>\n",
       "    </tr>\n",
       "  </tbody>\n",
       "</table>\n",
       "</div>"
      ],
      "text/plain": [
       "0         X\n",
       "1  abc 2001\n",
       "2   abc\\t25\n",
       "3    def v1\n",
       "4      3456\n",
       "5    abc v2\n",
       "6   def\\t01\n",
       "7      7655"
      ]
     },
     "execution_count": 4,
     "metadata": {},
     "output_type": "execute_result"
    }
   ],
   "source": [
    "#map(lambda x: x.split('\\t'), d.split('\\n'))\n",
    "d = \"\"\"X\n",
    "abc 2001\n",
    "abc\t25\n",
    "def v1\n",
    "3456\n",
    "abc v2\n",
    "def\t01\n",
    "7655\"\"\"\n",
    "d = pd.DataFrame(d.split(\"\\n\"))\n",
    "d.columns = d.iloc[0]\n",
    "d = d.drop(0, axis=0)\n",
    "# d = d.astype(int)\n",
    "d"
   ]
  },
  {
   "cell_type": "code",
   "execution_count": 5,
   "id": "4dcc2423",
   "metadata": {},
   "outputs": [
    {
     "name": "stdout",
     "output_type": "stream",
     "text": [
      "abc 2001\n",
      "abc\t25\n",
      "def v1\n",
      "3456\n",
      "abc v2\n",
      "def\t01\n",
      "7655\n"
     ]
    }
   ],
   "source": [
    "for i in d['X']:\n",
    "    print(i)"
   ]
  },
  {
   "cell_type": "code",
   "execution_count": 6,
   "id": "0e57d903",
   "metadata": {},
   "outputs": [],
   "source": [
    "# plt.plot(d.iloc[:, 0], d.iloc[:, 1], ls='--', marker='.', color='r', lw=2)\n",
    "# plt.plot(d.iloc[:, 0], d.iloc[:, 2], ls='--', marker='.', color='g', lw=2)\n",
    "# plt.plot(d.iloc[:, 0], d.iloc[:, 3], ls='--', marker='.', color='b', lw=2)\n",
    "# # plt.grid(axis='y', color='gray', linestyle='--', linewidth=0.5)\n",
    "# plt.hlines(np.arange(0, 41, 10), xmin=0, xmax=5, color='gray', alpha=0.4)\n",
    "# # plt.xticks([], [])\n",
    "# # plt.yticks([], [])\n",
    "# plt.gca().axis('off')\n",
    "# plt.savefig(\"example_ts_centriods.png\", bbox_inches='tight')\n",
    "# plt.show()"
   ]
  },
  {
   "cell_type": "code",
   "execution_count": 7,
   "metadata": {},
   "outputs": [
    {
     "name": "stdout",
     "output_type": "stream",
     "text": [
      "[1.78862847 0.43650985 0.09649747]\n",
      "[8.92946954 8.96293089 1.2558531 ]\n",
      "[-1.8634927  -0.46004212 -0.05792084]\n"
     ]
    }
   ],
   "source": [
    "rand_state = np.random.RandomState(3)\n",
    "print(rand_state.normal(size=3))\n",
    "print(rand_state.uniform(low=0, high=10, size=3))\n",
    "print(rand_state.normal(size=3))"
   ]
  },
  {
   "cell_type": "code",
   "execution_count": 8,
   "id": "48e34076",
   "metadata": {},
   "outputs": [],
   "source": [
    "# creating a function to create features from lags of multivariate time series\n",
    "def create_lag_features(arr, n_lags, add_constant):        \n",
    "    X = []\n",
    "    \n",
    "    for i in range(arr.shape[0] - n_lags):\n",
    "        if add_constant:\n",
    "            lst = list(arr[i: i+n_lags].T[:, ::-1].flatten()) + [1] # + [1] for constant coefficient\n",
    "        else:\n",
    "            lst = arr[i: i+n_lags].T[:, ::-1].flatten()\n",
    "\n",
    "        X.append(lst) \n",
    "            \n",
    "    return np.array(X)"
   ]
  },
  {
   "cell_type": "code",
   "execution_count": 9,
   "id": "baa2a74e",
   "metadata": {},
   "outputs": [],
   "source": [
    "def create_design_data(X, maxlag, y_col_idx, fit_intercept):\n",
    "    F = X.shape[1]\n",
    "\n",
    "    feature_col_mask = np.array([True] * F)\n",
    "    feature_col_mask[y_col_idx] = False \n",
    "\n",
    "    Xi = X[:, feature_col_mask].copy()\n",
    "    Xi_u = create_lag_features(Xi, maxlag, add_constant=fit_intercept)\n",
    "    Xi_r = create_lag_features(X[:, [y_col_idx]].copy(), maxlag, add_constant=fit_intercept)\n",
    "\n",
    "    if fit_intercept:\n",
    "        Xi_u = np.hstack([Xi_r[:, :-1], Xi_u]) # ensure that the ones for the constant coef is included once.\n",
    "    else:\n",
    "        Xi_u = np.hstack([Xi_r, Xi_u])\n",
    "\n",
    "    yi = X[maxlag:, [y_col_idx]].copy()\n",
    "\n",
    "    return Xi_u, Xi_r, yi\n",
    "\n",
    "def cal_local_lr_theta(cov_x_lst, cov_xy_lst):\n",
    "    return np.matmul(np.linalg.inv(np.sum(np.array(cov_x_lst), axis=0)), np.sum(np.array(cov_xy_lst), axis=0))\n",
    "\n",
    "def cal_rss(X, y, theta):\n",
    "    e = y - np.matmul(X, theta)\n",
    "\n",
    "    return np.matmul(e.T, e).flatten()[0]\n",
    "\n",
    "def cal_lr(X_u, X_r, y, theta_u, theta_r, scheme, return_rss=False):\n",
    "    if scheme == 'global':\n",
    "        total_rss_u = cal_rss(X_u, y, theta_u)\n",
    "        total_rss_r = cal_rss(X_r, y, theta_r)\n",
    "\n",
    "        lrs = np.log(total_rss_u) - np.log(total_rss_r)\n",
    "\n",
    "    elif scheme == 'local':\n",
    "        lrs = 0\n",
    "        total_rss_u = 0\n",
    "        total_rss_r = 0\n",
    "\n",
    "        for i in range(len(X_u)):\n",
    "            rss_u = cal_rss(X_u[i], y[i], theta_u)\n",
    "            rss_r = cal_rss(X_r[i], y[i], theta_r)\n",
    "\n",
    "            lrs += rss_u - rss_r\n",
    "\n",
    "            total_rss_u += rss_u\n",
    "            total_rss_r += rss_r\n",
    "\n",
    "    if return_rss:\n",
    "        return lrs, (total_rss_u, total_rss_r)\n",
    "    \n",
    "    return lrs\n",
    "\n",
    "def optimize_theta(\n",
    "    X: npt.NDArray[np.float64] | npt.NDArray[np.int64],\n",
    "    maxlag: int,\n",
    "    scheme: str = 'local',\n",
    "    y_col_idx: int = -1,\n",
    "    fit_intercept: bool = True,\n",
    "    return_rss: bool = False,\n",
    "    get_model_size: bool = False,\n",
    "    **kwargs\n",
    "    ):\n",
    "\n",
    "    T, N, F = X.shape\n",
    "\n",
    "    # if y_col_idx == -1:\n",
    "    #     y_col_idx = F - 1\n",
    "\n",
    "    X_u_lst = []\n",
    "    X_r_lst = []\n",
    "    y_lst = []\n",
    "\n",
    "    cov_x_u_lst = []\n",
    "    cov_xy_u_lst = []\n",
    "\n",
    "    cov_x_r_lst = []\n",
    "    cov_xy_r_lst = []\n",
    "\n",
    "\n",
    "    for i in range(N):\n",
    "        Xi = X[:, i, :].copy()\n",
    "        \n",
    "        Xi_u, Xi_r, yi = create_design_data(Xi, maxlag=maxlag, y_col_idx=y_col_idx, fit_intercept=fit_intercept)\n",
    "\n",
    "        X_u_lst.append(Xi_u)\n",
    "        X_r_lst.append(Xi_r)\n",
    "        \n",
    "        y_lst.append(yi)\n",
    "        \n",
    "        if scheme == 'local':\n",
    "            Xi_u_T = Xi_u.T\n",
    "            Xi_r_T = Xi_r.T\n",
    "\n",
    "            cov_x_u_lst.append(np.matmul(Xi_u_T, Xi_u))\n",
    "            cov_xy_u_lst.append(np.matmul(Xi_u_T, yi))\n",
    "            \n",
    "            cov_x_r_lst.append(np.matmul(Xi_r_T, Xi_r))\n",
    "            cov_xy_r_lst.append(np.matmul(Xi_r_T, yi))\n",
    "\n",
    "    if scheme == 'global' or scheme == 'rss_unrestricted':\n",
    "        X_u_lst = np.vstack(X_u_lst)\n",
    "        X_u_lst_T = X_u_lst.T\n",
    "\n",
    "        cov_x_u_lst.append(np.matmul(X_u_lst_T, X_u_lst))\n",
    "\n",
    "        y_lst = np.vstack(y_lst)\n",
    "\n",
    "        cov_xy_u_lst.append(np.matmul(X_u_lst_T, y_lst))\n",
    "\n",
    "        if scheme != 'rss_unrestricted':\n",
    "            X_r_lst = np.vstack(X_r_lst)\n",
    "            X_r_lst_T = X_r_lst.T\n",
    "\n",
    "            cov_x_r_lst.append(np.matmul(X_r_lst_T, X_r_lst))\n",
    "\n",
    "            cov_xy_r_lst.append(np.matmul(X_r_lst_T, y_lst))\n",
    "\n",
    "    theta_u = cal_local_lr_theta(cov_x_u_lst, cov_xy_u_lst)\n",
    "\n",
    "    if scheme == 'rss_unrestricted':\n",
    "        return theta_u, cal_rss(X_u_lst, y_lst, theta_u)\n",
    "    \n",
    "    theta_r = cal_local_lr_theta(cov_x_r_lst, cov_xy_r_lst)\n",
    "\n",
    "    results = cal_lr(X_u_lst, X_r_lst, y_lst, theta_u, theta_r, scheme=scheme, return_rss=return_rss)\n",
    "\n",
    "    if return_rss:\n",
    "        return theta_u, results[0], theta_r, results[1]\n",
    "    \n",
    "    return theta_u, results, theta_r"
   ]
  },
  {
   "cell_type": "code",
   "execution_count": 10,
   "id": "b823d97e",
   "metadata": {},
   "outputs": [],
   "source": [
    "from collections import Counter\n",
    "\n",
    "def calculate_purity(labels, clusters):\n",
    "    \"\"\"\n",
    "    Calculate the purity of a clustering result.\n",
    "    \n",
    "    Parameters:\n",
    "    labels (array-like): True class labels.\n",
    "    clusters (array-like): Cluster assignments.\n",
    "    \n",
    "    Returns:\n",
    "    float: Purity score.\n",
    "    \"\"\"\n",
    "    \n",
    "    # Total number of data points\n",
    "    N = len(labels)\n",
    "    \n",
    "    # Get unique clusters\n",
    "    unique_clusters = np.unique(clusters)\n",
    "    \n",
    "    # Initialize a counter for correctly assigned points\n",
    "    correct_assignments = 0\n",
    "    \n",
    "    # Loop over each cluster\n",
    "    for cluster in unique_clusters:\n",
    "        # Get indices of data points in the current cluster\n",
    "        cluster_indices = np.where(clusters == cluster)[0]\n",
    "        \n",
    "        # Get the true labels of these data points\n",
    "        cluster_labels = labels[cluster_indices]\n",
    "        \n",
    "        # Find the most common class label in the current cluster\n",
    "        most_common_label, count = Counter(cluster_labels).most_common(1)[0]\n",
    "        \n",
    "        # Increment the count of correct assignments\n",
    "        correct_assignments += count\n",
    "    \n",
    "    # Calculate purity\n",
    "    purity = correct_assignments / N\n",
    "    \n",
    "    return purity\n"
   ]
  },
  {
   "cell_type": "code",
   "execution_count": 11,
   "id": "bc831aba",
   "metadata": {},
   "outputs": [],
   "source": [
    "def fit_lr_local_model(X, K, maxlag, max_iter, fit_intercept=False, verbose=True, random_state=None):\n",
    "\n",
    "    N = X.shape[1]\n",
    "\n",
    "    # km = TSKmeans(K, random_state=42)\n",
    "    # km.fit(X)\n",
    "    # labels = km.labels_\n",
    "\n",
    "    lr_total_prev = np.inf\n",
    "    C_prev = None\n",
    "    total_rss_u_prev = None \n",
    "    total_rss_r_prev = None\n",
    "    theta_us_prev = None\n",
    "    theta_rs_prev = None\n",
    "\n",
    "    t0 = time.time()\n",
    "    for iter_ in range(max_iter):\n",
    "        lr_total = 0\n",
    "        total_rss_u = 0 \n",
    "        total_rss_r = 0\n",
    "        \n",
    "        # recompute cluster assignment\n",
    "        C = np.zeros((N, K))\n",
    "\n",
    "        if iter_ == 0:\n",
    "            rand_gen = np.random.RandomState(random_state)\n",
    "            labels = rand_gen.choice(np.arange(K), N)\n",
    "            \n",
    "            C[np.arange(N), labels] = 1\n",
    "\n",
    "            C0 = C.copy()\n",
    "        \n",
    "        else:\n",
    "            for i in range(N):\n",
    "                Xi = X[:, i, :]\n",
    "                \n",
    "                Xi_u, Xi_r, yi = create_design_data(Xi, maxlag=maxlag, y_col_idx=-1, fit_intercept=fit_intercept)\n",
    "                \n",
    "                lr_per_j = []\n",
    "\n",
    "                for j in range(K):\n",
    "                    rss_u = cal_rss(Xi_u, yi, theta_us[j])\n",
    "                    rss_r = cal_rss(Xi_r, yi, theta_rs[j])\n",
    "\n",
    "                    lr_per_j.append(rss_u - rss_r)\n",
    "\n",
    "                C[i, np.argmin(np.array(lr_per_j))] = 1\n",
    "\n",
    "        # find best theta per cluster\n",
    "        theta_us = []\n",
    "        theta_rs = []\n",
    "\n",
    "        for j in range(K):\n",
    "            i_mask = np.argmax(C, axis=1) == j\n",
    "            X_j = X[:, i_mask, :]\n",
    "        \n",
    "            theta_u, lrs, theta_r, rss_ = optimize_theta(X_j, maxlag=maxlag, scheme='local', fit_intercept=fit_intercept, return_rss=True)\n",
    "        \n",
    "            lr_total += lrs\n",
    "\n",
    "            total_rss_u += rss_[0]\n",
    "            total_rss_r += rss_[1]\n",
    "            \n",
    "            theta_us.append(theta_u)\n",
    "            theta_rs.append(theta_r)\n",
    "        \n",
    "        if verbose:\n",
    "            print(f\"Done with {iter_+1} of {max_iter}, lr = {lr_total}, rss_u = {total_rss_u}, rss_r = {total_rss_r}\")\n",
    "        \n",
    "        if lr_total_prev < lr_total:\n",
    "            lr_total = lr_total_prev\n",
    "            total_rss_u = total_rss_u_prev \n",
    "            total_rss_r = total_rss_r_prev\n",
    "            theta_us = theta_us_prev\n",
    "            theta_rs = theta_rs_prev\n",
    "            C = C_prev\n",
    "\n",
    "            break\n",
    "\n",
    "        lr_total_prev = lr_total\n",
    "        total_rss_u_prev = total_rss_u\n",
    "        total_rss_r = total_rss_r_prev\n",
    "        theta_us_prev = theta_us\n",
    "        theta_rs_prev = theta_rs\n",
    "        C_prev = C\n",
    "\n",
    "    if verbose:\n",
    "        print()\n",
    "        print(f\"Done after {np.round(time.time() - t0, 2)}secs\")\n",
    "\n",
    "    return theta_us, theta_rs, C, lr_total, total_rss_u, total_rss_r"
   ]
  },
  {
   "cell_type": "markdown",
   "id": "14350ae0",
   "metadata": {},
   "source": [
    "# global"
   ]
  },
  {
   "cell_type": "code",
   "execution_count": 12,
   "id": "f8a494b4",
   "metadata": {},
   "outputs": [],
   "source": [
    "def fit_lr_model(X, K, maxlag, max_iter, n_init=5, fit_intercept=False, verbose=True, random_state=None):\n",
    "\n",
    "    rand_gen = np.random.RandomState(random_state)\n",
    "\n",
    "    results = []\n",
    "    n_init_falied = False \n",
    "\n",
    "    for n in range(n_init):\n",
    "        if verbose:\n",
    "            print(f\"Started n_init {n+1}/{n_init}\")\n",
    "\n",
    "        N = X.shape[1]\n",
    "\n",
    "        lr_total_prev = np.inf\n",
    "        total_rss_u_prev = None \n",
    "        total_rss_r_prev = None\n",
    "        C_prev = None\n",
    "        theta_us_prev = None\n",
    "        theta_rs_prev = None\n",
    "\n",
    "        t0 = time.time()\n",
    "        for iter_ in range(max_iter):\n",
    "            lr_total = 0\n",
    "            total_rss_u = 0 \n",
    "            total_rss_r = 0\n",
    "\n",
    "            # recompute cluster assignment\n",
    "            C = np.zeros((N, K))\n",
    "\n",
    "            if iter_ == 0:\n",
    "                labels = rand_gen.choice(np.arange(K), N) #np.array([[i]*10 for i in range(K)]).flatten() \n",
    "                \n",
    "                C[np.arange(N), labels] = 1\n",
    "\n",
    "                C0 = C.copy()\n",
    "            \n",
    "            else:\n",
    "                for i in range(N):\n",
    "                    Xi = X[:, i, :]\n",
    "                    \n",
    "                    Xi_u, Xi_r, yi = create_design_data(Xi, maxlag=maxlag, y_col_idx=-1, fit_intercept=fit_intercept)\n",
    "                    \n",
    "                    lr_per_j = []\n",
    "\n",
    "                    for j in range(K):\n",
    "                        rss_u = cal_rss(Xi_u, yi, theta_us[j])\n",
    "                        rss_r = cal_rss(Xi_r, yi, theta_rs[j])\n",
    "\n",
    "                        lr_per_j.append(rss_u - rss_r)\n",
    "\n",
    "                    C[i, np.argmin(np.array(lr_per_j))] = 1\n",
    "\n",
    "            if any(np.sum(C, axis=0) == 0):\n",
    "                n_init_falied = True\n",
    "                results.append((None,)*6)\n",
    "                break\n",
    "\n",
    "            # find best theta per cluster\n",
    "            theta_us = []\n",
    "            theta_rs = []\n",
    "\n",
    "            for j in range(K):\n",
    "                i_mask = np.argmax(C, axis=1) == j\n",
    "                X_j = X[:, i_mask, :]\n",
    "            \n",
    "                theta_u, lrs, theta_r, rss_ = optimize_theta(X_j, maxlag=maxlag, scheme='global', return_rss=True,\n",
    "                                                    fit_intercept=fit_intercept\n",
    "                                                    )\n",
    "\n",
    "                total_rss_u += rss_[0]\n",
    "                total_rss_r += rss_[1]\n",
    "\n",
    "                lr_total += lrs\n",
    "\n",
    "                theta_us.append(theta_u)\n",
    "                theta_rs.append(theta_r)\n",
    "            \n",
    "            if verbose:\n",
    "                print(f\"Done with {iter_+1} of {max_iter}, lr = {lr_total}, rss_u = {total_rss_u}, rss_r = {total_rss_r}\")\n",
    "            \n",
    "            if lr_total_prev < lr_total:\n",
    "                lr_total = lr_total_prev\n",
    "                total_rss_u = total_rss_u_prev \n",
    "                total_rss_r = total_rss_r_prev\n",
    "                theta_us = theta_us_prev\n",
    "                theta_rs = theta_rs_prev\n",
    "                C = C_prev\n",
    "\n",
    "                break\n",
    "\n",
    "            lr_total_prev = lr_total\n",
    "            total_rss_u_prev = total_rss_u\n",
    "            total_rss_r = total_rss_r_prev\n",
    "            theta_us_prev = theta_us\n",
    "            theta_rs_prev = theta_rs\n",
    "            C_prev = C\n",
    "\n",
    "        if n_init_falied:\n",
    "            print(f\"n_init {n+1} failed due to some empty clusters\")\n",
    "            n_init_falied = False \n",
    "        else:\n",
    "            results.append((theta_us, theta_rs, C, lr_total, total_rss_u, total_rss_r))\n",
    "\n",
    "        if verbose:\n",
    "            print()\n",
    "            print(f\"Done after {np.round(time.time() - t0, 2)}secs\")\n",
    "\n",
    "        if verbose:\n",
    "            print(f\"Done with n_init {n+1}/{n_init}\")\n",
    "            print('-'*20)\n",
    "            print()\n",
    "\n",
    "    best_init = np.argmin([np.inf if res[3] is None else res[3] for res in results])\n",
    "\n",
    "    return results[best_init]\n",
    "\t"
   ]
  },
  {
   "cell_type": "markdown",
   "id": "35b138a9",
   "metadata": {},
   "source": [
    "# Unrestricted Only"
   ]
  },
  {
   "cell_type": "code",
   "execution_count": 13,
   "id": "3d6c3807",
   "metadata": {},
   "outputs": [],
   "source": [
    "\n",
    "# K = 3\n",
    "\n",
    "# maxlag = 2\n",
    "# max_iter = 10\n",
    "# fit_intercept = False \n",
    "\n",
    "# N = ts_arr.shape[1]\n",
    "\n",
    "# # km = TSKmeans(K, random_state=42)\n",
    "# # km.fit(ts_arr)\n",
    "# # labels = km.labels_\n",
    "\n",
    "# rss_total_prev = np.inf\n",
    "# C_prev = None\n",
    "# theta_us_prev = None\n",
    "# # theta_rs_prev = None\n",
    "\n",
    "# t0 = time.time()\n",
    "# for iter_ in range(max_iter):\n",
    "#     rss_total = 0\n",
    "\n",
    "#     # recompute cluster assignment\n",
    "#     C = np.zeros((N, K))\n",
    "\n",
    "#     if iter_ == 0:\n",
    "#         np.random.seed(1)\n",
    "#         labels = np.random.choice(np.arange(K), N) #np.array([[i]*10 for i in range(K)]).flatten() \n",
    "        \n",
    "#         C[np.arange(N), labels] = 1\n",
    "\n",
    "#         C0 = C.copy()\n",
    "    \n",
    "#     else:\n",
    "#         for i in range(N):\n",
    "#             Xi = ts_arr[:, i, :]\n",
    "            \n",
    "#             Xi_u, _, yi = create_design_data(Xi, maxlag=maxlag, y_col_idx=-1, fit_intercept=fit_intercept)\n",
    "            \n",
    "#             rss_per_j = []\n",
    "\n",
    "#             for j in range(K):\n",
    "#                 rss_u = cal_rss(Xi_u, yi, theta_us[j])\n",
    "#                 # rss_r = cal_rss(Xi_r, yi, theta_rs[j])\n",
    "\n",
    "#                 rss_per_j.append(rss_u) # - rss_r)\n",
    "\n",
    "#             C[i, np.argmin(np.array(rss_per_j))] = 1\n",
    "\n",
    "#     # find best theta per cluster\n",
    "#     theta_us = []\n",
    "#     # theta_rs = []\n",
    "\n",
    "#     for j in range(K):\n",
    "#         i_mask = np.argmax(C, axis=1) == j\n",
    "#         X_j = ts_arr[:, i_mask, :]\n",
    "    \n",
    "#         theta_u, rss = optimize_theta(X_j, maxlag=maxlag, scheme='rss_unrestricted', fit_intercept=fit_intercept)\n",
    "    \n",
    "#         rss_total += rss\n",
    "\n",
    "#         theta_us.append(theta_u)\n",
    "#         # theta_rs.append(theta_r)\n",
    "    \n",
    "#     print(f\"Done with {iter_+1} of {max_iter}, obj = {rss_total}\")\n",
    "    \n",
    "#     if rss_total_prev < rss_total:\n",
    "#         rss_total = rss_total_prev\n",
    "#         theta_us = theta_us_prev\n",
    "#         # theta_rs = theta_rs_prev\n",
    "#         C = C_prev\n",
    "\n",
    "#         break\n",
    "\n",
    "#     rss_total_prev = rss_total\n",
    "#     theta_us_prev = theta_us\n",
    "#     # theta_rs_prev = theta_rs\n",
    "#     C_prev = C\n",
    "\n",
    "# print()\n",
    "# print(f\"Done after {np.round(time.time() - t0, 2)}secs\")"
   ]
  },
  {
   "cell_type": "code",
   "execution_count": 14,
   "id": "763f6664",
   "metadata": {},
   "outputs": [],
   "source": [
    "def rss_only_model(X, K, maxlag, max_iter, fit_intercept=False, n_init=5, random_state=None, verbose=True):\n",
    "    rand_gen = np.random.RandomState(random_state)\n",
    "\n",
    "    results = []\n",
    "    n_init_falied = False \n",
    "\n",
    "    for n in range(n_init):\n",
    "        if 1:\n",
    "            print(f\"Started n_init {n+1}/{n_init}\")\n",
    "                \n",
    "        N = X.shape[1]\n",
    "\n",
    "        rss_total_prev = np.inf\n",
    "        C_prev = None\n",
    "        theta_us_prev = None\n",
    "        # theta_rs_prev = None\n",
    "\n",
    "        t0 = time.time()\n",
    "        for iter_ in range(max_iter):\n",
    "            rss_total = 0\n",
    "\n",
    "            # recompute cluster assignment\n",
    "            C = np.zeros((N, K))\n",
    "\n",
    "            if iter_ == 0:\n",
    "                rand_gen = np.random.RandomState(random_state)\n",
    "                labels = rand_gen.choice(np.arange(K), N) #np.array([[i]*10 for i in range(K)]).flatten() \n",
    "                \n",
    "                C[np.arange(N), labels] = 1\n",
    "\n",
    "                C0 = C.copy()\n",
    "            \n",
    "            else:\n",
    "                for i in range(N):\n",
    "                    Xi = X[:, i, :]\n",
    "                    \n",
    "                    Xi_u, _, yi = create_design_data(Xi, maxlag=maxlag, y_col_idx=-1, fit_intercept=fit_intercept)\n",
    "                    \n",
    "                    rss_per_j = []\n",
    "\n",
    "                    for j in range(K):\n",
    "                        rss_u = cal_rss(Xi_u, yi, theta_us[j])\n",
    "                        # rss_r = cal_rss(Xi_r, yi, theta_rs[j])\n",
    "\n",
    "                        rss_per_j.append(rss_u) # - rss_r)\n",
    "\n",
    "                    C[i, np.argmin(np.array(rss_per_j))] = 1\n",
    "\n",
    "            if any(np.sum(C, axis=0) == 0):\n",
    "                n_init_falied = True\n",
    "                results.append((None,)*3)\n",
    "                break\n",
    "\n",
    "            # find best theta per cluster\n",
    "            theta_us = []\n",
    "            # theta_rs = []\n",
    "\n",
    "            for j in range(K):\n",
    "                i_mask = np.argmax(C, axis=1) == j\n",
    "                X_j = X[:, i_mask, :]\n",
    "            \n",
    "                theta_u, rss = optimize_theta(X_j, maxlag=maxlag, scheme='rss_unrestricted', fit_intercept=fit_intercept)\n",
    "            \n",
    "                rss_total += rss\n",
    "\n",
    "                theta_us.append(theta_u)\n",
    "                # theta_rs.append(theta_r)\n",
    "            \n",
    "            if verbose:\n",
    "                print(f\"Done with {iter_+1} of {max_iter}, obj = {rss_total}\")\n",
    "            \n",
    "            if rss_total_prev < rss_total:\n",
    "                rss_total = rss_total_prev\n",
    "                theta_us = theta_us_prev\n",
    "                # theta_rs = theta_rs_prev\n",
    "                C = C_prev\n",
    "\n",
    "                break\n",
    "\n",
    "            rss_total_prev = rss_total\n",
    "            theta_us_prev = theta_us\n",
    "            # theta_rs_prev = theta_rs\n",
    "            C_prev = C\n",
    "\n",
    "        if n_init_falied:\n",
    "            print(f\"n_init {n+1} failed due to some empty clusters\")\n",
    "            n_init_falied = False \n",
    "        else:\n",
    "            results.append((theta_us, C, rss_total))\n",
    "\n",
    "        if verbose:\n",
    "            print()\n",
    "            print(f\"Done after {np.round(time.time() - t0, 2)}secs\")\n",
    "\n",
    "        if verbose:\n",
    "            print(f\"Done with n_init {n+1}/{n_init}\")\n",
    "            print('-'*20)\n",
    "            print()\n",
    "\n",
    "    best_init = np.argmin([np.inf if res[2] is None else res[2] for res in results])\n",
    "\n",
    "    return results[best_init]"
   ]
  },
  {
   "cell_type": "markdown",
   "id": "0a4bf698",
   "metadata": {},
   "source": [
    "# Base Case"
   ]
  },
  {
   "cell_type": "code",
   "execution_count": 15,
   "id": "3b667f37",
   "metadata": {},
   "outputs": [],
   "source": [
    "def kmeans_b4_modelling(X, K, maxlag, metric='dtw', fit_intercept=False, verbose=True):\n",
    "    ts_kmeans = TSKmeans(n_clusters=K, metric=metric)\n",
    "    ts_kmeans.fit(X)\n",
    "    labels = ts_kmeans.labels_\n",
    "\n",
    "    if verbose:\n",
    "        print(f\"Labels are {labels}\")\n",
    "    \n",
    "    N = X.shape[1]\n",
    "\n",
    "    theta_us = []\n",
    "    theta_rs = []\n",
    "\n",
    "    X_u_lst = []\n",
    "    X_r_lst = []\n",
    "    y_lst = []\n",
    "\n",
    "    t0 = time.time()\n",
    "    for i in range(K):\n",
    "        cov_x_u_lst = []\n",
    "        cov_xy_u_lst = []\n",
    "\n",
    "        cov_x_r_lst = []\n",
    "        cov_xy_r_lst = []\n",
    "\n",
    "        Xi = ts_kmeans.cluster_centers_[:, i, :]\n",
    "\n",
    "        Xi_u, Xi_r, yi = create_design_data(Xi, maxlag=maxlag, y_col_idx=-1, fit_intercept=fit_intercept)\n",
    "\n",
    "        Xi_u_T = Xi_u.T\n",
    "        Xi_r_T = Xi_r.T\n",
    "\n",
    "        cov_x_u_lst.append(np.matmul(Xi_u_T, Xi_u))\n",
    "        cov_xy_u_lst.append(np.matmul(Xi_u_T, yi))\n",
    "\n",
    "        cov_x_r_lst.append(np.matmul(Xi_r_T, Xi_r))\n",
    "        cov_xy_r_lst.append(np.matmul(Xi_r_T, yi))\n",
    "\n",
    "        theta_us.append(cal_local_lr_theta(cov_x_u_lst, cov_xy_u_lst).flatten())\n",
    "        theta_rs.append(cal_local_lr_theta(cov_x_r_lst, cov_xy_r_lst).flatten())\n",
    "\n",
    "        X_u_lst.append(Xi_u)\n",
    "        X_r_lst.append(Xi_r)\n",
    "        y_lst.append(yi)\n",
    "\n",
    "    theta_us = np.array(theta_us)\n",
    "    theta_rs = np.array(theta_rs)\n",
    "\n",
    "    C = np.zeros((N, K))\n",
    "\n",
    "    C[np.arange(N), labels] = 1 \n",
    "\n",
    "    rss_total = 0\n",
    "\n",
    "    for j in range(K):\n",
    "        i_mask = labels == j\n",
    "        for i in np.arange(N)[i_mask]:\n",
    "\n",
    "            X_u_j, X_r_j, y_j = create_design_data(X[:, i, :], maxlag=maxlag, y_col_idx=-1, fit_intercept=fit_intercept)\n",
    "\n",
    "            _, rss_ = cal_lr(X_u_j, X_r_j, y_j, theta_us[j].reshape(-1, 1), theta_rs[j].reshape(-1, 1), \n",
    "                             scheme='local', return_rss=True)\n",
    "\n",
    "            rss_total += rss_[0]\n",
    "\n",
    "    if verbose:\n",
    "        print(f\"Done! rss = {rss_total}\")\n",
    "\n",
    "        print()\n",
    "        print(f\"Done after {np.round(time.time() - t0, 2)}secs\")\n",
    "\n",
    "    return theta_us, C, rss_total"
   ]
  },
  {
   "cell_type": "markdown",
   "id": "cc053000",
   "metadata": {},
   "source": [
    "# Most similar coefficient"
   ]
  },
  {
   "cell_type": "code",
   "execution_count": 16,
   "id": "4a555ead",
   "metadata": {},
   "outputs": [],
   "source": [
    "def most_similar_coef(X, K, maxlag, fit_intercept=False, verbose=True):\n",
    "    N = X.shape[1]\n",
    "\n",
    "    theta_us = []\n",
    "    theta_rs = []\n",
    "\n",
    "    X_u_lst = []\n",
    "    X_r_lst = []\n",
    "    y_lst = []\n",
    "\n",
    "    t0 = time.time()\n",
    "    for i in range(N):\n",
    "        cov_x_u_lst = []\n",
    "        cov_xy_u_lst = []\n",
    "\n",
    "        cov_x_r_lst = []\n",
    "        cov_xy_r_lst = []\n",
    "\n",
    "        Xi = X[:, i, :]\n",
    "\n",
    "        Xi_u, Xi_r, yi = create_design_data(Xi, maxlag=maxlag, y_col_idx=-1, fit_intercept=fit_intercept)\n",
    "\n",
    "        Xi_u_T = Xi_u.T\n",
    "        Xi_r_T = Xi_r.T\n",
    "\n",
    "        cov_x_u_lst.append(np.matmul(Xi_u_T, Xi_u))\n",
    "        cov_xy_u_lst.append(np.matmul(Xi_u_T, yi))\n",
    "\n",
    "        cov_x_r_lst.append(np.matmul(Xi_r_T, Xi_r))\n",
    "        cov_xy_r_lst.append(np.matmul(Xi_r_T, yi))\n",
    "\n",
    "        theta_us.append(cal_local_lr_theta(cov_x_u_lst, cov_xy_u_lst).flatten())\n",
    "        theta_rs.append(cal_local_lr_theta(cov_x_r_lst, cov_xy_r_lst).flatten())\n",
    "\n",
    "        X_u_lst.append(Xi_u)\n",
    "        X_r_lst.append(Xi_r)\n",
    "        y_lst.append(yi)\n",
    "\n",
    "    theta_us = np.array(theta_us)\n",
    "    theta_rs = np.array(theta_rs)\n",
    "\n",
    "    km_u = KMeans(K)\n",
    "    km_r = KMeans(K)\n",
    "\n",
    "    km_u.fit(theta_us[:, :]) # # remove the intercept because they are the same\n",
    "    km_r.fit(theta_rs[:, :])\n",
    "\n",
    "    theta_u = km_u.cluster_centers_ #np.hstack([km_u.cluster_centers_, np.ones((K, 1))])\n",
    "    theta_r = km_r.cluster_centers_ #np.hstack([km_r.cluster_centers_, np.ones((K, 1))])\n",
    "\n",
    "    labels = km_u.labels_ \n",
    "    C = np.zeros((N, K))\n",
    "\n",
    "    C[np.arange(N), labels] = 1 \n",
    "\n",
    "    rss_total = 0\n",
    "\n",
    "    for j in range(K):\n",
    "        i_mask = np.argmax(C, axis=1) == j\n",
    "        X_u_j = list(np.array(X_u_lst)[i_mask, :, :])\n",
    "        X_r_j = list(np.array(X_r_lst)[i_mask, :, :])\n",
    "        y_j = list(np.array(y_lst)[i_mask, :, :])\n",
    "\n",
    "        _, rss_ = cal_lr(X_u_j, X_r_j, y_j, theta_u[j].reshape(-1, 1), theta_r[j].reshape(-1, 1), \n",
    "                           scheme='local', return_rss=True)\n",
    "    \n",
    "        rss_total += rss_[0]\n",
    "\n",
    "    if verbose:\n",
    "        print(f\"Done! rss = {rss_total}\")\n",
    "\n",
    "        print()\n",
    "        print(f\"Done after {np.round(time.time() - t0, 2)}secs\")\n",
    "\n",
    "    return theta_u, C, rss_total"
   ]
  },
  {
   "cell_type": "code",
   "execution_count": 17,
   "id": "e8ddc05e",
   "metadata": {},
   "outputs": [],
   "source": [
    "def avg_coef_distance(true_coef, pred_coef):\n",
    "    # cal distance matrix\n",
    "    coef_dist_matrix = []\n",
    "    for i in range(true_coef.shape[0]):\n",
    "        coef_dist_matrix.append(np.linalg.norm(true_coef[[i], :] - pred_coef, ord=2, axis=1))\n",
    "\n",
    "    coef_dist_matrix = np.array(coef_dist_matrix)\n",
    "    \n",
    "    cm = coef_dist_matrix.copy()\n",
    "\n",
    "    # one to one mapping of most similar true to pred such that no two true clusters will map to the same pred\n",
    "    most_similar_pred = np.zeros(coef_dist_matrix.shape[0], dtype=int)\n",
    "\n",
    "    for _ in range(cm.shape[0]):\n",
    "        row, col = np.unravel_index(np.argmin(cm), cm.shape)\n",
    "        most_similar_pred[row] = col\n",
    "        cm[:, col] = np.inf\n",
    "        cm[row, :] = np.inf\n",
    "\n",
    "    return np.mean(coef_dist_matrix[np.arange(cm.shape[0]), most_similar_pred])"
   ]
  },
  {
   "cell_type": "code",
   "execution_count": 18,
   "id": "91a8a802",
   "metadata": {},
   "outputs": [],
   "source": [
    "def print_model(theta_us, vars, maxlag, fit_intercept=False, sort_by_weights=False):\n",
    "    for j in range(len(theta_us)):\n",
    "        equ_str = f\"Cluster {j}: \"\n",
    "\n",
    "        coef_str_lst = []\n",
    "\n",
    "        theta_j = theta_us[j].flatten()\n",
    "\n",
    "        if fit_intercept:\n",
    "            n_par = len(theta_j) - 1\n",
    "            intercept_str = f\"+ {np.round(theta_j[-1], 4)}\"\n",
    "        else:\n",
    "            n_par = len(theta_j)\n",
    "            intercept_str = \"\"\n",
    "            \n",
    "        for coef_f in range(n_par):\n",
    "            var_i, lag_i = np.unravel_index(coef_f, (len(vars), maxlag))\n",
    "\n",
    "            coef_str_lst.append(f\"{np.round(theta_j[coef_f], 4)} {vars[var_i]}_{lag_i+1} \")\n",
    "\n",
    "        if sort_by_weights:\n",
    "            coef_str_lst = sorted(coef_str_lst, key=lambda x: np.abs(float(x.split(' ')[0])), reverse=True)\n",
    "        # coef_str_lst = sorted(coef_str_lst, key=lambda x: -1 * np.abs(float(x.split(' ')[1])))\n",
    "\n",
    "        else:\n",
    "            coef_str_lst = sorted(coef_str_lst, key=lambda x: \n",
    "                            (x.split(' ')[1].split('_')[0], -1 * int(x.split(' ')[1].split('_')[1])), \n",
    "                            reverse=True)\n",
    "        \n",
    "        equ_str += \" + \".join(coef_str_lst)\n",
    "\n",
    "        equ_str += intercept_str\n",
    "\n",
    "        print(equ_str)\n",
    "        print()\n",
    "        \n",
    "        "
   ]
  },
  {
   "cell_type": "markdown",
   "id": "24b47d7d",
   "metadata": {},
   "source": [
    "# Granger Causal Tree"
   ]
  },
  {
   "cell_type": "code",
   "execution_count": 19,
   "id": "2a98037c",
   "metadata": {},
   "outputs": [],
   "source": [
    "# creating a function to create features from lags of multivariate time series\n",
    "def create_lag_features(arr, n_lags, add_constant):        \n",
    "    X = []\n",
    "    \n",
    "    for i in range(arr.shape[0] - n_lags + 1):\n",
    "        if add_constant:\n",
    "            lst = list(arr[i: i+n_lags].T[:, ::-1].flatten()) + [1] # + [1] for constant coefficient\n",
    "        else:\n",
    "            lst = arr[i: i+n_lags].T[:, ::-1].flatten()\n",
    "\n",
    "        X.append(lst) \n",
    "            \n",
    "    return np.array(X)"
   ]
  },
  {
   "cell_type": "code",
   "execution_count": 20,
   "id": "920eda19",
   "metadata": {},
   "outputs": [],
   "source": [
    "def create_design_data_GC(X, maxlag, x_col_idx, fit_intercept):\n",
    "\n",
    "    Xi = X[:-1, x_col_idx].copy()\n",
    "    return create_lag_features(Xi, maxlag, add_constant=fit_intercept)"
   ]
  },
  {
   "cell_type": "code",
   "execution_count": 21,
   "id": "f6b24eb1",
   "metadata": {},
   "outputs": [],
   "source": [
    "def get_likelihoods(ts_arr, feature_set, maxlag, fit_intercept=True, lambda_reg=0, which='both', return_thetas=False):\n",
    "\n",
    "    log_likelihoods_u = np.zeros((ts_arr.shape[1], len(feature_set)))\n",
    "    log_likelihoods_r = np.zeros(ts_arr.shape[1])\n",
    "\n",
    "    for i in range(ts_arr.shape[1]):\n",
    "        X = ts_arr[:, i, :]\n",
    "        \n",
    "        y = X[maxlag:, [-1]].copy()\n",
    "\n",
    "        n = X.shape[0]\n",
    "\n",
    "        if which in ('both', 'unrestricted'):\n",
    "            for m in range(len(feature_set)):\n",
    "                p = list(feature_set[m]) + [-1]\n",
    "\n",
    "                X_u = create_design_data_GC(X, maxlag=maxlag, x_col_idx=p, fit_intercept=fit_intercept)\n",
    "\n",
    "                b_u = np.matmul(np.linalg.inv(np.matmul(X_u.T, X_u) + lambda_reg * np.identity(X_u.shape[1])), np.matmul(X_u.T, y))                    \n",
    "\n",
    "                rss_u = np.sum((y - np.matmul(X_u, b_u))**2) + lambda_reg * np.linalg.norm(b_u.flatten())**2\n",
    "                \n",
    "                log_likelihoods_u[i, m] = n * np.log(rss_u) \n",
    "\n",
    "        # if which in ('both', 'restricted'):\n",
    "        X_r = create_design_data_GC(X, maxlag=maxlag, x_col_idx=[-1], fit_intercept=fit_intercept)\n",
    "\n",
    "        b_r = np.matmul(np.linalg.inv(np.matmul(X_r.T, X_r) + lambda_reg * np.identity(X_r.shape[1])), np.matmul(X_r.T, y))\n",
    "\n",
    "        rss_r = np.sum((y - np.matmul(X_r, b_r))**2) + lambda_reg * np.linalg.norm(b_r.flatten())**2\n",
    "        \n",
    "        log_likelihoods_r[i] = n * np.log(rss_r) \n",
    "    \n",
    "    if which == 'unrestricted':\n",
    "        if return_thetas and len(feature_set) == 1 and ts_arr.shape[1] == 1:\n",
    "            return log_likelihoods_r[0] - log_likelihoods_u[0], b_u.flatten()\n",
    "\n",
    "        return log_likelihoods_u\n",
    "    elif which == 'restricted':\n",
    "        return log_likelihoods_r \n",
    "    return log_likelihoods_u, log_likelihoods_r"
   ]
  },
  {
   "cell_type": "code",
   "execution_count": 22,
   "id": "e2cfde4d",
   "metadata": {},
   "outputs": [],
   "source": [
    "def build_tree(i, arr, log_likelihoods_r, feature_set_dict, feature_lst, nodes, maxlag, nodes_to_skip=[], p_value_threshold=None, verbose=False,\n",
    "               fit_intercept=True, lambda_reg=0):\n",
    "    df = maxlag\n",
    "    \n",
    "    log_likelihoods_u_i = np.zeros(len(feature_set_dict)).astype(float)\n",
    "    log_likelihoods_u_i[:] = np.nan\n",
    "\n",
    "    path = []\n",
    "\n",
    "    min_p_value = np.inf\n",
    "\n",
    "    for depth_i in range(len(nodes)):\n",
    "        depth = nodes[depth_i]\n",
    "        p_values = []\n",
    "        node_lst = []            \n",
    "\n",
    "        for node_i in range(len(depth)):\n",
    "            node = depth[node_i]\n",
    "\n",
    "            if node in nodes_to_skip:\n",
    "                continue\n",
    "           \n",
    "            # log_likelihood_u = log_likelihoods_u[i, feature_set_dict[node]] \n",
    "\n",
    "            if depth_i == 0:\n",
    "                log_likelihood_r = log_likelihoods_r[i]\n",
    "\n",
    "                log_likelihood_u = get_likelihoods(arr, [node], maxlag, fit_intercept=fit_intercept, lambda_reg=lambda_reg, which='unrestricted')[0, 0]\n",
    "                log_likelihoods_u_i[feature_set_dict[node]] = log_likelihood_u\n",
    "\n",
    "                likelihood_ratio = log_likelihood_r - log_likelihood_u\n",
    "                p_value = 1 - stats.chi2.cdf(likelihood_ratio, df)\n",
    "\n",
    "                p_values.append(p_value)\n",
    "                node_lst.append(node)\n",
    "                \n",
    "                if verbose:\n",
    "                    print(f\"depth: {depth}, node: {node}, p_value: {p_value}, lr: {likelihood_ratio}\")\n",
    "            \n",
    "            else:\n",
    "\n",
    "                prev_node = path[-1]\n",
    "\n",
    "                if len(set(node) - set(prev_node)) == 1:\n",
    "\n",
    "                    log_likelihood_r = log_likelihoods_u_i[feature_set_dict[prev_node]]\n",
    "                else:\n",
    "                    continue\n",
    "                    \n",
    "                log_likelihood_u = get_likelihoods(arr, [node], maxlag, fit_intercept=fit_intercept, lambda_reg=lambda_reg, which='unrestricted')[0, 0]\n",
    "                log_likelihoods_u_i[feature_set_dict[node]] = log_likelihood_u\n",
    "                \n",
    "                likelihood_ratio = log_likelihood_r - log_likelihood_u\n",
    "                p_value = 1 - stats.chi2.cdf(likelihood_ratio, df)\n",
    "\n",
    "                # if prev_node == path[-1]:\n",
    "                p_values.append(p_value)\n",
    "                # prev_node_lst.append(prev_node)\n",
    "                node_lst.append(node)\n",
    "\n",
    "                if verbose:\n",
    "                    print(f\"depth: {depth}, node: {node}, prev_node: {prev_node}, p_value: {p_value}, lr: {likelihood_ratio}\")\n",
    "\n",
    "        min_idx = np.argmin(p_values)\n",
    "\n",
    "        if depth_i == 0 or (p_value_threshold is None and p_values[min_idx] < min_p_value):\n",
    "            path.append(node_lst[min_idx])\n",
    "            min_p_value = p_values[min_idx]\n",
    "\n",
    "            if verbose:\n",
    "                print(path)\n",
    "\n",
    "        elif p_value_threshold is not None: \n",
    "            if p_values[min_idx] < p_value_threshold: # here because we can't do float < None\n",
    "                path.append(node_lst[min_idx])\n",
    "\n",
    "            else: # if p_value is not less than threshold\n",
    "                break \n",
    "\n",
    "            if verbose:\n",
    "                print(path)\n",
    "\n",
    "        else: # break if threshold is None and p_value not less than min_p_value\n",
    "            break\n",
    "        \n",
    "    return reduce(lambda x, y: x | y, map(set, path)), log_likelihoods_u_i\n"
   ]
  },
  {
   "cell_type": "code",
   "execution_count": 23,
   "id": "464f5c52",
   "metadata": {},
   "outputs": [],
   "source": [
    "def GC_PTSC(ts_arr, maxlag, k=None, fit_intercept=True, lambda_reg=0, verbose=False, p_value_threshold=None, use_agg_clustering=False, \n",
    "            return_total_models=False):\n",
    "    N = ts_arr.shape[1]\n",
    "        \n",
    "    n_features = ts_arr.shape[2] - 1\n",
    "    feature_lst = sum([list(combinations(np.arange(n_features), i)) for i in range(1, n_features+1)], [])\n",
    "\n",
    "    feature_lst_dict = {v: k for k, v in enumerate(feature_lst)}\n",
    "\n",
    "    nodes = [[p for p in feature_lst if len(p) == i] for i in range(1, n_features + 1)]\n",
    "\n",
    "    labels = np.zeros(N)\n",
    "    labels[:] = -1\n",
    "\n",
    "    important_features = {}\n",
    "\n",
    "    log_likelihoods_r = get_likelihoods(ts_arr, feature_lst, maxlag, fit_intercept=fit_intercept, lambda_reg=lambda_reg, which='restricted')\n",
    "    log_likelihoods_u = np.zeros((ts_arr.shape[1], len(feature_lst))).astype(float)\n",
    "    log_likelihoods_u[:, :] = np.nan\n",
    "    \n",
    "    # max_lr_matrix = np.zeros(log_likelihoods_u.shape)\n",
    "    for i in range(N):\n",
    "        # important_feature_set, max_lr_arr = build_tree(i, log_likelihoods_u, log_likelihoods_r, feature_lst_dict, nodes, maxlag, \n",
    "        #                                                      return_max_lr_arr=True, verbose=verbose)\n",
    "\n",
    "        important_feature_set, log_likelihoods_u_i = build_tree(i, ts_arr[:, [i], :], log_likelihoods_r, feature_lst_dict, feature_lst, nodes, maxlag, \n",
    "                                                             verbose=verbose, p_value_threshold=p_value_threshold, fit_intercept=fit_intercept,\n",
    "                                                             lambda_reg=lambda_reg)\n",
    "        \n",
    "        log_likelihoods_u[i, :] = log_likelihoods_u_i\n",
    "\n",
    "        important_feature_set = tuple(sorted(list(important_feature_set)))\n",
    "\n",
    "        if important_feature_set not in important_features:\n",
    "            important_features[important_feature_set] = int(np.max(labels) + 1)\n",
    "\n",
    "        labels[i] = important_features[important_feature_set]\n",
    "\n",
    "        # max_lr_matrix[i, :] = max_lr_arr\n",
    "\n",
    "    flip_keys_and_values = lambda d: {v: k for k, v in d.items()}\n",
    "    important_features = flip_keys_and_values(important_features)\n",
    "\n",
    "    if k is None or len(important_features) == k: # check if there is need to recluster\n",
    "        if return_total_models:\n",
    "            return log_likelihoods_r.size + np.sum(~np.isnan(log_likelihoods_u)), log_likelihoods_u.size + log_likelihoods_r.size\n",
    "        return labels, important_features\n",
    "    \n",
    "    elif use_agg_clustering:\n",
    "        item_sets = list(map(lambda x: important_features[x], labels))\n",
    "\n",
    "        thetas = np.zeros((N, ts_arr.shape[2]-1))\n",
    "        for i in range(N):\n",
    "            node = item_sets[i]\n",
    "            _, theta = get_likelihoods(ts_arr[:, [i], :], [node], maxlag, fit_intercept=fit_intercept, lambda_reg=lambda_reg, which='unrestricted',\n",
    "                            return_thetas=True)\n",
    "            # print(i, node, theta)\n",
    "            \n",
    "            thetas[i, list(node)] = np.max(np.abs(theta[: len(node)*maxlag]).reshape(-1, maxlag), axis=1)\n",
    "\n",
    "        thetas = np.array(thetas)\n",
    "        km = KMeans(n_clusters=k)\n",
    "        # km.fit(one_hot_encoded)\n",
    "        km.fit(thetas)\n",
    "        labels = km.labels_\n",
    "        return labels, important_features\n",
    "\n",
    "    # recluster entities in clusters with low number of entities\n",
    "    cluster_idx, n_samples_per_cluster = np.unique(labels, return_counts=True) # get entity count of clusters\n",
    "\n",
    "    sorted_cluster_idx = cluster_idx[np.argsort(n_samples_per_cluster)[::-1]] # sort clusters in descending order of entity count\n",
    "\n",
    "    clusters = sorted_cluster_idx[:k].copy() # clusters to choose\n",
    "    nodes_idx_to_keep =  [feature_lst_dict[f] for f in [important_features[j] for j in clusters]] # nodes index to keep\n",
    "    entities_2_recluster = [i for i in range(N) if labels[i] not in clusters] # enitites to recluster\n",
    "\n",
    "    # remove clusters with low entity count from the dict\n",
    "    for j in sorted_cluster_idx[k:]:\n",
    "        important_features.pop(j)\n",
    "\n",
    "    important_features = flip_keys_and_values(important_features)\n",
    "\n",
    "    # get new clusters of the entities without cluster\n",
    "    for i in entities_2_recluster:\n",
    "        # important_feature_set = feature_lst[nodes_idx_to_keep[np.argmax(max_lr_matrix[i, nodes_idx_to_keep])]]\n",
    "\n",
    "        for j in nodes_idx_to_keep:\n",
    "            if np.isnan(log_likelihoods_u[i, j]):\n",
    "                log_likelihoods_u[i, j] = get_likelihoods(ts_arr[:, [i], :], [feature_lst[j]], maxlag, fit_intercept=fit_intercept, \n",
    "                                                          lambda_reg=lambda_reg, which='unrestricted')[0, 0]\n",
    "            \n",
    "        important_feature_set = feature_lst[nodes_idx_to_keep[np.argmax([(log_likelihoods_r[i] - log_likelihoods_u[i, j]) / len(feature_lst[j]) for \n",
    "                                                                         j in nodes_idx_to_keep])]]\n",
    "\n",
    "        # important_feature_set = feature_lst[nodes_idx_to_keep[np.argmin([1 - stats.chi2.cdf(log_likelihoods_r[i] - log_likelihoods_u[i, j], \n",
    "        #                                                                                     len(feature_lst[j])*maxlag) for j in nodes_idx_to_keep])]]\n",
    "\n",
    "        labels[i] = important_features[important_feature_set]\n",
    "\n",
    "    # renumber cluster index to be in range(k)\n",
    "    important_features = flip_keys_and_values(important_features)\n",
    "    new_cluster_labels = sorted(important_features.keys())\n",
    "\n",
    "    relabeled_important_features = {}\n",
    "    relabeled_labels = np.zeros(N)\n",
    "    relabeled_labels[:] = np.nan\n",
    "\n",
    "    for j, v in enumerate(new_cluster_labels):\n",
    "        relabeled_important_features[j] = important_features[v]\n",
    "        relabeled_labels[labels == v] = j \n",
    "\n",
    "    if return_total_models:\n",
    "        return log_likelihoods_r.size + np.sum(~np.isnan(log_likelihoods_u)), log_likelihoods_u.size + log_likelihoods_r.size\n",
    "    return relabeled_labels, relabeled_important_features"
   ]
  },
  {
   "cell_type": "markdown",
   "id": "0173ac92",
   "metadata": {},
   "source": [
    "# Cook "
   ]
  },
  {
   "cell_type": "markdown",
   "id": "fe4a85fe",
   "metadata": {},
   "source": [
    "## Census"
   ]
  },
  {
   "cell_type": "code",
   "execution_count": 24,
   "id": "69a8d542",
   "metadata": {},
   "outputs": [
    {
     "data": {
      "text/plain": [
       "(9, 175, 6)"
      ]
     },
     "execution_count": 24,
     "metadata": {},
     "output_type": "execute_result"
    }
   ],
   "source": [
    "ts_arr = np.load(r\"cook_census_arr_scaled.npy\")\n",
    "ts_arr.shape"
   ]
  },
  {
   "cell_type": "code",
   "execution_count": 25,
   "id": "41ca275c",
   "metadata": {},
   "outputs": [
    {
     "name": "stdout",
     "output_type": "stream",
     "text": [
      "(67,)\n"
     ]
    }
   ],
   "source": [
    "ctuids = np.load('Chicago_zip_codes.npy')\n",
    "print(ctuids.shape)\n"
   ]
  },
  {
   "cell_type": "code",
   "execution_count": 26,
   "id": "c34ee816",
   "metadata": {},
   "outputs": [
    {
     "data": {
      "text/plain": [
       "175"
      ]
     },
     "execution_count": 26,
     "metadata": {},
     "output_type": "execute_result"
    }
   ],
   "source": [
    "zip_codes = np.load(\"cook_zip_codes.npy\")\n",
    "len(zip_codes)"
   ]
  },
  {
   "cell_type": "code",
   "execution_count": 27,
   "id": "37c8199d",
   "metadata": {},
   "outputs": [
    {
     "data": {
      "text/plain": [
       "array([False,  True, False, False, False, False,  True, False, False,\n",
       "       False, False, False, False, False, False, False,  True, False,\n",
       "       False, False, False, False, False, False, False, False, False,\n",
       "       False, False, False, False, False,  True, False, False, False,\n",
       "       False, False, False, False, False, False, False, False, False,\n",
       "       False,  True, False, False, False, False, False, False, False,\n",
       "       False, False, False, False, False, False, False, False, False,\n",
       "       False, False, False, False, False, False, False, False, False,\n",
       "       False, False, False, False, False, False, False, False, False,\n",
       "       False, False, False, False, False, False, False, False, False,\n",
       "       False, False, False, False, False, False, False, False, False,\n",
       "       False, False, False, False, False, False, False, False, False,\n",
       "       False, False, False,  True,  True,  True,  True,  True,  True,\n",
       "        True,  True,  True,  True,  True,  True,  True,  True,  True,\n",
       "        True,  True,  True,  True,  True,  True,  True,  True,  True,\n",
       "        True,  True,  True,  True,  True,  True,  True,  True,  True,\n",
       "        True,  True,  True,  True,  True,  True,  True,  True,  True,\n",
       "        True,  True,  True,  True,  True,  True,  True,  True,  True,\n",
       "        True,  True,  True,  True,  True,  True,  True, False,  True,\n",
       "       False,  True, False,  True])"
      ]
     },
     "execution_count": 27,
     "metadata": {},
     "output_type": "execute_result"
    }
   ],
   "source": [
    "chicago_mask = np.isin(zip_codes, ctuids)\n",
    "chicago_mask"
   ]
  },
  {
   "cell_type": "code",
   "execution_count": 28,
   "id": "48b21241",
   "metadata": {},
   "outputs": [
    {
     "data": {
      "text/plain": [
       "(9, 66, 6)"
      ]
     },
     "execution_count": 28,
     "metadata": {},
     "output_type": "execute_result"
    }
   ],
   "source": [
    "ts_arr = ts_arr[:, chicago_mask, :]\n",
    "ts_arr.shape"
   ]
  },
  {
   "cell_type": "code",
   "execution_count": 29,
   "id": "a57c70b9",
   "metadata": {},
   "outputs": [],
   "source": [
    "# bad_idx = []\n",
    "# for i in range(ts_arr.shape[1]):\n",
    "#     for f in range(ts_arr.shape[2]):\n",
    "#         if len(np.unique(ts_arr[:, i, f])) == 1:\n",
    "#             bad_idx.append(i)\n",
    "#             break\n",
    "            \n",
    "# bad_idx_mask = np.ones(ts_arr.shape[1], dtype=bool)\n",
    "# bad_idx_mask[bad_idx] = False\n",
    "# bad_idx_mask.sum()"
   ]
  },
  {
   "cell_type": "code",
   "execution_count": 30,
   "id": "bd02c51d",
   "metadata": {},
   "outputs": [],
   "source": [
    "# ts_arr = ts_arr[:, bad_idx_mask, :][:, :, :]\n",
    "# ts_arr.shape"
   ]
  },
  {
   "cell_type": "code",
   "execution_count": 31,
   "id": "64b62316",
   "metadata": {},
   "outputs": [],
   "source": [
    "# # differencing\n",
    "# lst = []\n",
    "\n",
    "# for i in range(ts_arr.shape[1]):\n",
    "#     lst.append(ts_arr[1:, i, :] - ts_arr[:-1, i, :])\n",
    "\n",
    "# ts_arr = ntf_to_tnf(np.array(lst))\n",
    "# ts_arr.shape"
   ]
  },
  {
   "cell_type": "code",
   "execution_count": 32,
   "id": "d6fb28e5",
   "metadata": {},
   "outputs": [
    {
     "data": {
      "text/plain": [
       "{0: (1,),\n",
       " 1: (3,),\n",
       " 2: (2,),\n",
       " 3: (1, 2),\n",
       " 4: (1, 3),\n",
       " 5: (0, 3),\n",
       " 6: (0,),\n",
       " 7: (4,),\n",
       " 8: (2, 4),\n",
       " 9: (0, 2),\n",
       " 10: (3, 4),\n",
       " 11: (0, 2, 3),\n",
       " 12: (1, 4)}"
      ]
     },
     "execution_count": 32,
     "metadata": {},
     "output_type": "execute_result"
    }
   ],
   "source": [
    "labels, important_feature_set = GC_PTSC(ts_arr, maxlag=1, k=None, lambda_reg=0, p_value_threshold=None, use_agg_clustering=False)\n",
    "important_feature_set"
   ]
  },
  {
   "cell_type": "code",
   "execution_count": 33,
   "id": "cc9d3bfe",
   "metadata": {},
   "outputs": [
    {
     "data": {
      "text/plain": [
       "{0: (3,), 1: (2,), 2: (0,)}"
      ]
     },
     "execution_count": 33,
     "metadata": {},
     "output_type": "execute_result"
    }
   ],
   "source": [
    "labels, important_feature_set = GC_PTSC(ts_arr, maxlag=1, k=3, lambda_reg=0, p_value_threshold=None, use_agg_clustering=False)\n",
    "important_feature_set"
   ]
  },
  {
   "cell_type": "code",
   "execution_count": 34,
   "id": "4687b295",
   "metadata": {},
   "outputs": [
    {
     "data": {
      "text/plain": [
       "array([0., 0., 1., 1., 2., 1., 0., 2., 2., 2., 2., 2., 1., 0., 0., 0., 0.,\n",
       "       1., 2., 1., 1., 2., 1., 0., 0., 2., 1., 0., 2., 0., 0., 1., 0., 2.,\n",
       "       0., 0., 2., 0., 0., 0., 1., 1., 2., 1., 1., 1., 2., 1., 0., 2., 0.,\n",
       "       1., 2., 1., 0., 1., 1., 0., 0., 1., 2., 2., 0., 2., 0., 2.])"
      ]
     },
     "execution_count": 34,
     "metadata": {},
     "output_type": "execute_result"
    }
   ],
   "source": [
    "labels"
   ]
  },
  {
   "cell_type": "code",
   "execution_count": null,
   "id": "e88d2b51",
   "metadata": {},
   "outputs": [],
   "source": []
  },
  {
   "cell_type": "markdown",
   "id": "5b1bbd0b",
   "metadata": {},
   "source": [
    "# Elbow Plot"
   ]
  },
  {
   "cell_type": "code",
   "execution_count": 35,
   "id": "7e0b5448",
   "metadata": {},
   "outputs": [],
   "source": [
    "# Ks = np.arange(2, 10)\n",
    "# maxlag = 1\n",
    "# max_iter = 30\n",
    "# fit_intercept = True \n",
    "\n",
    "# lr_totals = []\n",
    "\n",
    "# t0 = time.time()\n",
    "# for K in Ks:\n",
    "#     lr_total_lst = []\n",
    "#     for n_repeats in range(5):\n",
    "#         theta_u, theta_r, C, lr_total, total_rss_u, total_rss_r = fit_lr_model(\n",
    "#             ts_arr, K=K, maxlag=maxlag, max_iter=max_iter, random_state=None, verbose=False, fit_intercept=fit_intercept\n",
    "#             )\n",
    "        \n",
    "#         lr_total_lst.append(lr_total)\n",
    "    \n",
    "#     lr_totals.append(np.mean(lr_total_lst))\n",
    "\n",
    "#     print(f\"Done with {K - Ks[0] + 1} of {len(Ks)}\")\n",
    "\n",
    "# print()\n",
    "# print(f\"Done after {np.round((time.time() - t0)/60, 2)}mins\")\n",
    "    "
   ]
  },
  {
   "cell_type": "code",
   "execution_count": 36,
   "id": "a8d664fb",
   "metadata": {},
   "outputs": [],
   "source": [
    "# plt.plot(Ks, lr_totals, marker='.')\n",
    "# plt.xlabel('# of clusters')\n",
    "# plt.ylabel('Likelihood Ratio')\n",
    "# plt.title('Elbow Plot for Cook Census Data using GC-PTSC')\n",
    "# plt.savefig('elbow_plot.svg', bbox_inches='tight')\n",
    "# plt.show()"
   ]
  },
  {
   "cell_type": "markdown",
   "id": "3139e0cf",
   "metadata": {},
   "source": [
    "# Modeling Census Data"
   ]
  },
  {
   "cell_type": "code",
   "execution_count": 37,
   "id": "57090f47",
   "metadata": {},
   "outputs": [],
   "source": [
    "# K = 5\n",
    "# maxlag = 1\n",
    "# max_iter = 20\n",
    "# fit_intercept = True \n",
    "\n",
    "# theta_u, theta_r, C, lr_total, total_rss_u, total_rss_r = fit_lr_model(\n",
    "#     ts_arr, K=K, maxlag=maxlag, max_iter=max_iter, random_state=0, fit_intercept=fit_intercept\n",
    "#     )\n",
    "\n",
    "# # theta_u, C, lr_total = rss_only_model(\n",
    "# #     ts_arr, K=K, maxlag=maxlag, max_iter=max_iter, random_state=0, fit_intercept=fit_intercept\n",
    "# #     )\n",
    "\n",
    "# # # 3, 9, 2,  k=5 for diff; "
   ]
  },
  {
   "cell_type": "code",
   "execution_count": 38,
   "id": "f0db4c05",
   "metadata": {},
   "outputs": [],
   "source": [
    "# print(f\"Done, obj = {lr_total}\")"
   ]
  },
  {
   "cell_type": "code",
   "execution_count": null,
   "id": "222437cc",
   "metadata": {},
   "outputs": [],
   "source": []
  },
  {
   "cell_type": "code",
   "execution_count": 39,
   "id": "5c006040",
   "metadata": {},
   "outputs": [],
   "source": [
    "# labels = np.argmax(C, axis=1)\n",
    "# labels"
   ]
  },
  {
   "cell_type": "code",
   "execution_count": 40,
   "id": "a5f2c0d2",
   "metadata": {},
   "outputs": [],
   "source": [
    "# errors = []\n",
    "\n",
    "# # for i in range(N):\n",
    "# #     Xi = ts_arr[:, i, :].copy()\n",
    "\n",
    "# for j in range(K):\n",
    "#     X_u_lst = []\n",
    "#     y_lst = []\n",
    "\n",
    "#     i_mask = np.argmax(C, axis=1) == j\n",
    "#     X_j = ts_arr[:, i_mask, :]\n",
    "    \n",
    "#     for i in range(X_j.shape[1]):\n",
    "#         Xi_u, Xi_r, yi = create_design_data(X_j[:, i, :], maxlag=maxlag, y_col_idx=-1, fit_intercept=fit_intercept)\n",
    "\n",
    "#         X_u_lst.append(Xi_u)\n",
    "        \n",
    "#         y_lst.append(yi)\n",
    "\n",
    "#     X_u_arr = np.vstack(X_u_lst)\n",
    "#     y_arr = np.vstack(y_lst)\n",
    "\n",
    "#     errors.append(y_arr - np.matmul(X_u_arr, theta_u[j]))"
   ]
  },
  {
   "cell_type": "code",
   "execution_count": 41,
   "id": "59fc6517",
   "metadata": {},
   "outputs": [],
   "source": [
    "# n_rows = 2\n",
    "# n_cols = 3\n",
    "\n",
    "# fig = plt.figure(figsize=(12, 6))\n",
    "# for j in range(len(errors)):\n",
    "#     plt.subplot(n_rows, n_cols, j+1)\n",
    "\n",
    "#     plt.hist(errors[j])\n",
    "\n",
    "#     if (j + 1) > (n_rows - 1) * n_cols:\n",
    "#         plt.xlabel('error')\n",
    "\n",
    "#     if (j + 1) % n_cols == 1:\n",
    "#         plt.ylabel(\"Frequency\")\n",
    "\n",
    "#     plt.title(f\"cluster {j}\")\n",
    "\n",
    "# plt.show()"
   ]
  },
  {
   "cell_type": "code",
   "execution_count": 42,
   "id": "a2d6636c",
   "metadata": {},
   "outputs": [],
   "source": [
    "\n",
    "# vars = ['C', 'A', 'B']\n",
    "\n",
    "# def print_model(theta_us, vars=vars, maxlag=maxlag, fit_intercept=False, sort_by_weights=False, return_coef_names=False):\n",
    "\n",
    "#     coef_names = []\n",
    "\n",
    "#     for j in range(len(theta_us)):\n",
    "#         equ_str = f\"Cluster {j}: \"\n",
    "\n",
    "#         coef_str_lst = []\n",
    "\n",
    "#         theta_j = theta_us[j].flatten()\n",
    "\n",
    "#         if fit_intercept:\n",
    "#             n_par = len(theta_j) - 1\n",
    "#             intercept_str = f\"+ {np.round(theta_j[-1], 4)}\"\n",
    "#         else:\n",
    "#             n_par = len(theta_j)\n",
    "#             intercept_str = \"\"\n",
    "            \n",
    "#         for coef_f in range(n_par):\n",
    "#             var_i, lag_i = np.unravel_index(coef_f, (len(vars), maxlag))\n",
    "\n",
    "#             coef_str_lst.append(f\"{np.round(theta_j[coef_f], 4)} {vars[var_i]}_{lag_i+1} \")\n",
    "\n",
    "#             if j == 0:\n",
    "#                 coef_names.append(f\"{vars[var_i]}_{lag_i+1}\")\n",
    "\n",
    "#         if sort_by_weights:\n",
    "#             coef_str_lst = sorted(coef_str_lst, key=lambda x: np.abs(float(x.split(' ')[0])), reverse=True)\n",
    "#         # coef_str_lst = sorted(coef_str_lst, key=lambda x: -1 * np.abs(float(x.split(' ')[1])))\n",
    "\n",
    "#         else:\n",
    "#             coef_str_lst = sorted(coef_str_lst, key=lambda x: \n",
    "#                             (x.split(' ')[1].split('_')[0], -1 * int(x.split(' ')[1].split('_')[1])), \n",
    "#                             reverse=True)\n",
    "        \n",
    "#         equ_str += \" + \".join(coef_str_lst)\n",
    "\n",
    "#         equ_str += intercept_str\n",
    "\n",
    "#         print(equ_str)\n",
    "#         print()\n",
    "        \n",
    "#     if return_coef_names:\n",
    "#         if fit_intercept:\n",
    "#             return coef_names + ['intercept']\n",
    "#         return coef_names\n",
    "    "
   ]
  },
  {
   "cell_type": "code",
   "execution_count": 43,
   "id": "1dc673b3",
   "metadata": {},
   "outputs": [],
   "source": [
    "y_var = ['HouseholdIncome']\n",
    "x_vars = [\n",
    "    'PopulationDensity',\n",
    "    'MedianAge',\n",
    "    'PercentBAorHigher',\n",
    "    'PercentUnemployed',\n",
    "    'PercentWhite'\n",
    "    ]\n",
    "\n",
    "vars = y_var + x_vars\n",
    "\n",
    "# print_model(theta_u, vars=vars, maxlag=maxlag, fit_intercept=fit_intercept)\n"
   ]
  },
  {
   "cell_type": "code",
   "execution_count": 44,
   "id": "15b5dddf",
   "metadata": {},
   "outputs": [],
   "source": [
    "# vars = [\n",
    "#     'HouseholdIncome',\n",
    "#     'TotalPopulation',\n",
    "#     'MedianAge(years)',\n",
    "#     'PercentBAOrHigher',\n",
    "#     'PercentUnemployed']\n",
    "\n",
    "\n",
    "# coef_names = print_model(theta_u, vars=vars, maxlag=maxlag, sort_by_weights=True, fit_intercept=fit_intercept, return_coef_names=True)\n"
   ]
  },
  {
   "cell_type": "code",
   "execution_count": 45,
   "id": "853c0165",
   "metadata": {},
   "outputs": [],
   "source": [
    "# nrow, ncol = (2, 3)\n",
    "\n",
    "# fig = plt.figure(figsize=(15, 4))\n",
    "\n",
    "# for j in range(len(theta_u)):\n",
    "#     fig.add_subplot(nrow, ncol, j+1)\n",
    "\n",
    "#     plt.bar(coef_names, theta_u[j].flatten(), label=f\"cluster {j}\")\n",
    "\n",
    "#     if (j+1) > len(theta_u) - ncol: \n",
    "#         plt.xticks(rotation=90)\n",
    "#     else:\n",
    "#         plt.xticks([], [])\n",
    "\n",
    "#     if j % ncol == 0:\n",
    "#         plt.ylabel(\"coefficient\")\n",
    "\n",
    "#     plt.legend()\n",
    "\n",
    "# plt.savefig(\"cook_census_cluster_coef.svg\", bbox_inches='tight')\n",
    "# plt.show()"
   ]
  },
  {
   "cell_type": "markdown",
   "id": "3f92b6b6",
   "metadata": {},
   "source": [
    "# Map"
   ]
  },
  {
   "cell_type": "code",
   "execution_count": null,
   "id": "d202943e",
   "metadata": {},
   "outputs": [],
   "source": []
  },
  {
   "cell_type": "code",
   "execution_count": 46,
   "id": "a5ca228b",
   "metadata": {},
   "outputs": [
    {
     "name": "stdout",
     "output_type": "stream",
     "text": [
      "(33144, 6)\n"
     ]
    },
    {
     "data": {
      "text/html": [
       "<div>\n",
       "<style scoped>\n",
       "    .dataframe tbody tr th:only-of-type {\n",
       "        vertical-align: middle;\n",
       "    }\n",
       "\n",
       "    .dataframe tbody tr th {\n",
       "        vertical-align: top;\n",
       "    }\n",
       "\n",
       "    .dataframe thead th {\n",
       "        text-align: right;\n",
       "    }\n",
       "</style>\n",
       "<table border=\"1\" class=\"dataframe\">\n",
       "  <thead>\n",
       "    <tr style=\"text-align: right;\">\n",
       "      <th></th>\n",
       "      <th>ZCTA5CE10</th>\n",
       "      <th>AFFGEOID10</th>\n",
       "      <th>GEOID10</th>\n",
       "      <th>ALAND10</th>\n",
       "      <th>AWATER10</th>\n",
       "      <th>geometry</th>\n",
       "    </tr>\n",
       "  </thead>\n",
       "  <tbody>\n",
       "    <tr>\n",
       "      <th>0</th>\n",
       "      <td>35586</td>\n",
       "      <td>8600000US35586</td>\n",
       "      <td>35586</td>\n",
       "      <td>472581657</td>\n",
       "      <td>892816</td>\n",
       "      <td>MULTIPOLYGON (((-88.0016 33.811, -88.00258 33....</td>\n",
       "    </tr>\n",
       "    <tr>\n",
       "      <th>1</th>\n",
       "      <td>72454</td>\n",
       "      <td>8600000US72454</td>\n",
       "      <td>72454</td>\n",
       "      <td>263532032</td>\n",
       "      <td>775633</td>\n",
       "      <td>POLYGON ((-90.41711 36.36553, -90.41686 36.390...</td>\n",
       "    </tr>\n",
       "    <tr>\n",
       "      <th>2</th>\n",
       "      <td>71653</td>\n",
       "      <td>8600000US71653</td>\n",
       "      <td>71653</td>\n",
       "      <td>817752215</td>\n",
       "      <td>89308151</td>\n",
       "      <td>POLYGON ((-91.45936 33.30273, -91.45758 33.381...</td>\n",
       "    </tr>\n",
       "    <tr>\n",
       "      <th>3</th>\n",
       "      <td>19963</td>\n",
       "      <td>8600000US19963</td>\n",
       "      <td>19963</td>\n",
       "      <td>276290156</td>\n",
       "      <td>21123546</td>\n",
       "      <td>POLYGON ((-75.50557 38.92751, -75.50313 38.927...</td>\n",
       "    </tr>\n",
       "    <tr>\n",
       "      <th>4</th>\n",
       "      <td>81303</td>\n",
       "      <td>8600000US81303</td>\n",
       "      <td>81303</td>\n",
       "      <td>557450510</td>\n",
       "      <td>6445737</td>\n",
       "      <td>POLYGON ((-108.04031 37.09764, -108.03896 37.1...</td>\n",
       "    </tr>\n",
       "  </tbody>\n",
       "</table>\n",
       "</div>"
      ],
      "text/plain": [
       "  ZCTA5CE10      AFFGEOID10 GEOID10    ALAND10  AWATER10  \\\n",
       "0     35586  8600000US35586   35586  472581657    892816   \n",
       "1     72454  8600000US72454   72454  263532032    775633   \n",
       "2     71653  8600000US71653   71653  817752215  89308151   \n",
       "3     19963  8600000US19963   19963  276290156  21123546   \n",
       "4     81303  8600000US81303   81303  557450510   6445737   \n",
       "\n",
       "                                            geometry  \n",
       "0  MULTIPOLYGON (((-88.0016 33.811, -88.00258 33....  \n",
       "1  POLYGON ((-90.41711 36.36553, -90.41686 36.390...  \n",
       "2  POLYGON ((-91.45936 33.30273, -91.45758 33.381...  \n",
       "3  POLYGON ((-75.50557 38.92751, -75.50313 38.927...  \n",
       "4  POLYGON ((-108.04031 37.09764, -108.03896 37.1...  "
      ]
     },
     "execution_count": 46,
     "metadata": {},
     "output_type": "execute_result"
    }
   ],
   "source": [
    "gdf = gpd.read_file(r\".\\cb_2019_us_zcta510_500k.zip\")\n",
    "print(gdf.shape)\n",
    "gdf.head()"
   ]
  },
  {
   "cell_type": "code",
   "execution_count": 47,
   "id": "ffb576c5",
   "metadata": {},
   "outputs": [
    {
     "data": {
      "text/plain": [
       "175"
      ]
     },
     "execution_count": 47,
     "metadata": {},
     "output_type": "execute_result"
    }
   ],
   "source": [
    "zip_codes = np.load(\"cook_zip_codes.npy\")\n",
    "len(zip_codes)"
   ]
  },
  {
   "cell_type": "code",
   "execution_count": 48,
   "id": "f91cdb9f",
   "metadata": {},
   "outputs": [
    {
     "name": "stdout",
     "output_type": "stream",
     "text": [
      "(66, 2)\n"
     ]
    },
    {
     "data": {
      "text/html": [
       "<div>\n",
       "<style scoped>\n",
       "    .dataframe tbody tr th:only-of-type {\n",
       "        vertical-align: middle;\n",
       "    }\n",
       "\n",
       "    .dataframe tbody tr th {\n",
       "        vertical-align: top;\n",
       "    }\n",
       "\n",
       "    .dataframe thead th {\n",
       "        text-align: right;\n",
       "    }\n",
       "</style>\n",
       "<table border=\"1\" class=\"dataframe\">\n",
       "  <thead>\n",
       "    <tr style=\"text-align: right;\">\n",
       "      <th></th>\n",
       "      <th>zip_code</th>\n",
       "      <th>geometry</th>\n",
       "    </tr>\n",
       "  </thead>\n",
       "  <tbody>\n",
       "    <tr>\n",
       "      <th>418</th>\n",
       "      <td>60176</td>\n",
       "      <td>POLYGON ((-87.89076 41.95803, -87.8843 41.9575...</td>\n",
       "    </tr>\n",
       "    <tr>\n",
       "      <th>422</th>\n",
       "      <td>60602</td>\n",
       "      <td>POLYGON ((-87.6339 41.88447, -87.62536 41.8845...</td>\n",
       "    </tr>\n",
       "    <tr>\n",
       "      <th>424</th>\n",
       "      <td>60654</td>\n",
       "      <td>POLYGON ((-87.64774 41.8964, -87.64414 41.8964...</td>\n",
       "    </tr>\n",
       "    <tr>\n",
       "      <th>1338</th>\n",
       "      <td>60624</td>\n",
       "      <td>POLYGON ((-87.7412 41.89509, -87.72485 41.8949...</td>\n",
       "    </tr>\n",
       "    <tr>\n",
       "      <th>1562</th>\n",
       "      <td>60603</td>\n",
       "      <td>POLYGON ((-87.63382 41.88195, -87.62781 41.882...</td>\n",
       "    </tr>\n",
       "  </tbody>\n",
       "</table>\n",
       "</div>"
      ],
      "text/plain": [
       "      zip_code                                           geometry\n",
       "418      60176  POLYGON ((-87.89076 41.95803, -87.8843 41.9575...\n",
       "422      60602  POLYGON ((-87.6339 41.88447, -87.62536 41.8845...\n",
       "424      60654  POLYGON ((-87.64774 41.8964, -87.64414 41.8964...\n",
       "1338     60624  POLYGON ((-87.7412 41.89509, -87.72485 41.8949...\n",
       "1562     60603  POLYGON ((-87.63382 41.88195, -87.62781 41.882..."
      ]
     },
     "execution_count": 48,
     "metadata": {},
     "output_type": "execute_result"
    }
   ],
   "source": [
    "gdf = gdf[gdf['ZCTA5CE10'].astype(int).isin(zip_codes[chicago_mask])][['ZCTA5CE10', 'geometry']].rename(columns={'ZCTA5CE10': 'zip_code'})\n",
    "gdf['zip_code'] = gdf['zip_code'].astype(int)\n",
    "print(gdf.shape)\n",
    "gdf.head()"
   ]
  },
  {
   "cell_type": "code",
   "execution_count": 49,
   "id": "1d46bc96",
   "metadata": {},
   "outputs": [
    {
     "data": {
      "text/html": [
       "<div>\n",
       "<style scoped>\n",
       "    .dataframe tbody tr th:only-of-type {\n",
       "        vertical-align: middle;\n",
       "    }\n",
       "\n",
       "    .dataframe tbody tr th {\n",
       "        vertical-align: top;\n",
       "    }\n",
       "\n",
       "    .dataframe thead th {\n",
       "        text-align: right;\n",
       "    }\n",
       "</style>\n",
       "<table border=\"1\" class=\"dataframe\">\n",
       "  <thead>\n",
       "    <tr style=\"text-align: right;\">\n",
       "      <th></th>\n",
       "      <th>geometry</th>\n",
       "    </tr>\n",
       "    <tr>\n",
       "      <th>zip_code</th>\n",
       "      <th></th>\n",
       "    </tr>\n",
       "  </thead>\n",
       "  <tbody>\n",
       "    <tr>\n",
       "      <th>60007</th>\n",
       "      <td>POLYGON ((-88.06053 42.00427, -88.05565 42.004...</td>\n",
       "    </tr>\n",
       "    <tr>\n",
       "      <th>60018</th>\n",
       "      <td>POLYGON ((-87.94651 42.01956, -87.94722 42.020...</td>\n",
       "    </tr>\n",
       "    <tr>\n",
       "      <th>60068</th>\n",
       "      <td>POLYGON ((-87.86842 42.03908, -87.8648 42.0391...</td>\n",
       "    </tr>\n",
       "    <tr>\n",
       "      <th>60131</th>\n",
       "      <td>POLYGON ((-87.92048 41.95208, -87.92017 41.958...</td>\n",
       "    </tr>\n",
       "    <tr>\n",
       "      <th>60176</th>\n",
       "      <td>POLYGON ((-87.89076 41.95803, -87.8843 41.9575...</td>\n",
       "    </tr>\n",
       "  </tbody>\n",
       "</table>\n",
       "</div>"
      ],
      "text/plain": [
       "                                                   geometry\n",
       "zip_code                                                   \n",
       "60007     POLYGON ((-88.06053 42.00427, -88.05565 42.004...\n",
       "60018     POLYGON ((-87.94651 42.01956, -87.94722 42.020...\n",
       "60068     POLYGON ((-87.86842 42.03908, -87.8648 42.0391...\n",
       "60131     POLYGON ((-87.92048 41.95208, -87.92017 41.958...\n",
       "60176     POLYGON ((-87.89076 41.95803, -87.8843 41.9575..."
      ]
     },
     "execution_count": 49,
     "metadata": {},
     "output_type": "execute_result"
    }
   ],
   "source": [
    "gdf = gdf.set_index('zip_code').loc[zip_codes[chicago_mask], :]\n",
    "gdf.head()"
   ]
  },
  {
   "cell_type": "code",
   "execution_count": 50,
   "id": "2394f8d5",
   "metadata": {},
   "outputs": [],
   "source": [
    "\n",
    "# ctuid_series = pd.Series(ctuids)\n",
    "# missing_ctuids = ctuid_series[~ctuid_series.isin(list(gdf.index))].sort_values()\n",
    "# missing_ctuids"
   ]
  },
  {
   "cell_type": "code",
   "execution_count": 51,
   "id": "424e9fdf",
   "metadata": {},
   "outputs": [],
   "source": [
    "# ctuids_mask = pd.Series(ctuids).isin(gdf.index).values\n",
    "# ctuids_mask"
   ]
  },
  {
   "cell_type": "code",
   "execution_count": 52,
   "id": "70dd3e3c",
   "metadata": {},
   "outputs": [],
   "source": [
    "y_var = ['HouseholdIncome']\n",
    "x_vars = [\n",
    "    'PopulationDensity',\n",
    "    'MedianAge',\n",
    "    'PercentBAorHigher',\n",
    "    'PercentUnemployed',\n",
    "    'PercentWhite'\n",
    "    ]\n",
    "\n",
    "vars = y_var + x_vars"
   ]
  },
  {
   "cell_type": "code",
   "execution_count": 53,
   "id": "673ee826",
   "metadata": {},
   "outputs": [
    {
     "data": {
      "text/plain": [
       "{0: (3,), 1: (2,), 2: (0,)}"
      ]
     },
     "execution_count": 53,
     "metadata": {},
     "output_type": "execute_result"
    }
   ],
   "source": [
    "important_feature_set"
   ]
  },
  {
   "cell_type": "code",
   "execution_count": 54,
   "id": "32eed1f4",
   "metadata": {},
   "outputs": [
    {
     "data": {
      "text/plain": [
       "['PopulationDensity',\n",
       " 'MedianAge',\n",
       " 'PercentBAorHigher',\n",
       " 'PercentUnemployed',\n",
       " 'PercentWhite']"
      ]
     },
     "execution_count": 54,
     "metadata": {},
     "output_type": "execute_result"
    }
   ],
   "source": [
    "x_vars"
   ]
  },
  {
   "cell_type": "code",
   "execution_count": 55,
   "id": "d3fce0c5",
   "metadata": {},
   "outputs": [
    {
     "data": {
      "text/plain": [
       "('PercentUnemployed',)"
      ]
     },
     "execution_count": 55,
     "metadata": {},
     "output_type": "execute_result"
    }
   ],
   "source": [
    "tuple([x_vars[i] for i in important_feature_set[0]])"
   ]
  },
  {
   "cell_type": "code",
   "execution_count": 56,
   "id": "6388a25e",
   "metadata": {},
   "outputs": [
    {
     "data": {
      "text/html": [
       "<div>\n",
       "<style scoped>\n",
       "    .dataframe tbody tr th:only-of-type {\n",
       "        vertical-align: middle;\n",
       "    }\n",
       "\n",
       "    .dataframe tbody tr th {\n",
       "        vertical-align: top;\n",
       "    }\n",
       "\n",
       "    .dataframe thead th {\n",
       "        text-align: right;\n",
       "    }\n",
       "</style>\n",
       "<table border=\"1\" class=\"dataframe\">\n",
       "  <thead>\n",
       "    <tr style=\"text-align: right;\">\n",
       "      <th></th>\n",
       "      <th>geometry</th>\n",
       "      <th>label</th>\n",
       "      <th>PopulationDensity_12</th>\n",
       "      <th>MedianAge_12</th>\n",
       "      <th>PercentBAorHigher_12</th>\n",
       "      <th>PercentUnemployed_12</th>\n",
       "      <th>PercentWhite_12</th>\n",
       "      <th>HouseholdIncome_12</th>\n",
       "      <th>PopulationDensity_13</th>\n",
       "      <th>MedianAge_13</th>\n",
       "      <th>...</th>\n",
       "      <th>PercentBAorHigher_18</th>\n",
       "      <th>PercentUnemployed_18</th>\n",
       "      <th>PercentWhite_18</th>\n",
       "      <th>HouseholdIncome_18</th>\n",
       "      <th>PopulationDensity_19</th>\n",
       "      <th>MedianAge_19</th>\n",
       "      <th>PercentBAorHigher_19</th>\n",
       "      <th>PercentUnemployed_19</th>\n",
       "      <th>PercentWhite_19</th>\n",
       "      <th>HouseholdIncome_19</th>\n",
       "    </tr>\n",
       "    <tr>\n",
       "      <th>zip_code</th>\n",
       "      <th></th>\n",
       "      <th></th>\n",
       "      <th></th>\n",
       "      <th></th>\n",
       "      <th></th>\n",
       "      <th></th>\n",
       "      <th></th>\n",
       "      <th></th>\n",
       "      <th></th>\n",
       "      <th></th>\n",
       "      <th></th>\n",
       "      <th></th>\n",
       "      <th></th>\n",
       "      <th></th>\n",
       "      <th></th>\n",
       "      <th></th>\n",
       "      <th></th>\n",
       "      <th></th>\n",
       "      <th></th>\n",
       "      <th></th>\n",
       "      <th></th>\n",
       "    </tr>\n",
       "  </thead>\n",
       "  <tbody>\n",
       "    <tr>\n",
       "      <th>60007</th>\n",
       "      <td>POLYGON ((-88.06053 42.00427, -88.05565 42.004...</td>\n",
       "      <td>('PercentUnemployed',)</td>\n",
       "      <td>0.595242</td>\n",
       "      <td>-2.404729</td>\n",
       "      <td>-1.739747</td>\n",
       "      <td>-0.186984</td>\n",
       "      <td>-2.224873</td>\n",
       "      <td>-0.486590</td>\n",
       "      <td>0.471951</td>\n",
       "      <td>-0.409316</td>\n",
       "      <td>...</td>\n",
       "      <td>-1.676975</td>\n",
       "      <td>0.233730</td>\n",
       "      <td>-0.026533</td>\n",
       "      <td>0.192141</td>\n",
       "      <td>-1.186506</td>\n",
       "      <td>0.972125</td>\n",
       "      <td>-0.155785</td>\n",
       "      <td>-1.133592</td>\n",
       "      <td>1.238157</td>\n",
       "      <td>1.498649</td>\n",
       "    </tr>\n",
       "    <tr>\n",
       "      <th>60018</th>\n",
       "      <td>POLYGON ((-87.94651 42.01956, -87.94722 42.020...</td>\n",
       "      <td>('PercentUnemployed',)</td>\n",
       "      <td>-1.221480</td>\n",
       "      <td>-0.984732</td>\n",
       "      <td>-1.629569</td>\n",
       "      <td>0.220783</td>\n",
       "      <td>-1.194637</td>\n",
       "      <td>-1.253899</td>\n",
       "      <td>-0.819421</td>\n",
       "      <td>-0.615457</td>\n",
       "      <td>...</td>\n",
       "      <td>0.527798</td>\n",
       "      <td>-0.849167</td>\n",
       "      <td>0.182809</td>\n",
       "      <td>0.664926</td>\n",
       "      <td>0.937593</td>\n",
       "      <td>-0.615457</td>\n",
       "      <td>1.008775</td>\n",
       "      <td>-1.307717</td>\n",
       "      <td>1.169475</td>\n",
       "      <td>0.967418</td>\n",
       "    </tr>\n",
       "    <tr>\n",
       "      <th>60068</th>\n",
       "      <td>POLYGON ((-87.86842 42.03908, -87.8648 42.0391...</td>\n",
       "      <td>('PercentBAorHigher',)</td>\n",
       "      <td>-1.361468</td>\n",
       "      <td>-0.671837</td>\n",
       "      <td>-1.612617</td>\n",
       "      <td>0.884533</td>\n",
       "      <td>1.181775</td>\n",
       "      <td>-0.491003</td>\n",
       "      <td>-1.395254</td>\n",
       "      <td>-0.408944</td>\n",
       "      <td>...</td>\n",
       "      <td>0.643674</td>\n",
       "      <td>-1.083304</td>\n",
       "      <td>-1.108850</td>\n",
       "      <td>0.513997</td>\n",
       "      <td>1.251349</td>\n",
       "      <td>-0.671837</td>\n",
       "      <td>1.145421</td>\n",
       "      <td>-1.262198</td>\n",
       "      <td>-0.314414</td>\n",
       "      <td>1.048239</td>\n",
       "    </tr>\n",
       "    <tr>\n",
       "      <th>60131</th>\n",
       "      <td>POLYGON ((-87.92048 41.95208, -87.92017 41.958...</td>\n",
       "      <td>('PercentBAorHigher',)</td>\n",
       "      <td>-1.049205</td>\n",
       "      <td>-2.221191</td>\n",
       "      <td>-1.738131</td>\n",
       "      <td>0.608447</td>\n",
       "      <td>-2.161506</td>\n",
       "      <td>-1.257022</td>\n",
       "      <td>0.075501</td>\n",
       "      <td>-1.181674</td>\n",
       "      <td>...</td>\n",
       "      <td>0.995571</td>\n",
       "      <td>-0.865867</td>\n",
       "      <td>0.120391</td>\n",
       "      <td>0.631183</td>\n",
       "      <td>-0.065087</td>\n",
       "      <td>0.657473</td>\n",
       "      <td>1.343139</td>\n",
       "      <td>-1.076484</td>\n",
       "      <td>1.460774</td>\n",
       "      <td>1.458897</td>\n",
       "    </tr>\n",
       "    <tr>\n",
       "      <th>60176</th>\n",
       "      <td>POLYGON ((-87.89076 41.95803, -87.8843 41.9575...</td>\n",
       "      <td>('PopulationDensity',)</td>\n",
       "      <td>-0.465325</td>\n",
       "      <td>-1.657072</td>\n",
       "      <td>-0.788233</td>\n",
       "      <td>0.147667</td>\n",
       "      <td>0.028343</td>\n",
       "      <td>-0.298761</td>\n",
       "      <td>0.230143</td>\n",
       "      <td>-1.283296</td>\n",
       "      <td>...</td>\n",
       "      <td>0.027293</td>\n",
       "      <td>-0.871234</td>\n",
       "      <td>0.524218</td>\n",
       "      <td>1.300940</td>\n",
       "      <td>-0.949128</td>\n",
       "      <td>1.183623</td>\n",
       "      <td>-1.627849</td>\n",
       "      <td>-1.225635</td>\n",
       "      <td>1.072847</td>\n",
       "      <td>1.031529</td>\n",
       "    </tr>\n",
       "  </tbody>\n",
       "</table>\n",
       "<p>5 rows × 50 columns</p>\n",
       "</div>"
      ],
      "text/plain": [
       "                                                   geometry  \\\n",
       "zip_code                                                      \n",
       "60007     POLYGON ((-88.06053 42.00427, -88.05565 42.004...   \n",
       "60018     POLYGON ((-87.94651 42.01956, -87.94722 42.020...   \n",
       "60068     POLYGON ((-87.86842 42.03908, -87.8648 42.0391...   \n",
       "60131     POLYGON ((-87.92048 41.95208, -87.92017 41.958...   \n",
       "60176     POLYGON ((-87.89076 41.95803, -87.8843 41.9575...   \n",
       "\n",
       "                            label  PopulationDensity_12  MedianAge_12  \\\n",
       "zip_code                                                                \n",
       "60007      ('PercentUnemployed',)              0.595242     -2.404729   \n",
       "60018      ('PercentUnemployed',)             -1.221480     -0.984732   \n",
       "60068      ('PercentBAorHigher',)             -1.361468     -0.671837   \n",
       "60131      ('PercentBAorHigher',)             -1.049205     -2.221191   \n",
       "60176      ('PopulationDensity',)             -0.465325     -1.657072   \n",
       "\n",
       "          PercentBAorHigher_12  PercentUnemployed_12  PercentWhite_12  \\\n",
       "zip_code                                                                \n",
       "60007                -1.739747             -0.186984        -2.224873   \n",
       "60018                -1.629569              0.220783        -1.194637   \n",
       "60068                -1.612617              0.884533         1.181775   \n",
       "60131                -1.738131              0.608447        -2.161506   \n",
       "60176                -0.788233              0.147667         0.028343   \n",
       "\n",
       "          HouseholdIncome_12  PopulationDensity_13  MedianAge_13  ...  \\\n",
       "zip_code                                                          ...   \n",
       "60007              -0.486590              0.471951     -0.409316  ...   \n",
       "60018              -1.253899             -0.819421     -0.615457  ...   \n",
       "60068              -0.491003             -1.395254     -0.408944  ...   \n",
       "60131              -1.257022              0.075501     -1.181674  ...   \n",
       "60176              -0.298761              0.230143     -1.283296  ...   \n",
       "\n",
       "          PercentBAorHigher_18  PercentUnemployed_18  PercentWhite_18  \\\n",
       "zip_code                                                                \n",
       "60007                -1.676975              0.233730        -0.026533   \n",
       "60018                 0.527798             -0.849167         0.182809   \n",
       "60068                 0.643674             -1.083304        -1.108850   \n",
       "60131                 0.995571             -0.865867         0.120391   \n",
       "60176                 0.027293             -0.871234         0.524218   \n",
       "\n",
       "          HouseholdIncome_18  PopulationDensity_19  MedianAge_19  \\\n",
       "zip_code                                                           \n",
       "60007               0.192141             -1.186506      0.972125   \n",
       "60018               0.664926              0.937593     -0.615457   \n",
       "60068               0.513997              1.251349     -0.671837   \n",
       "60131               0.631183             -0.065087      0.657473   \n",
       "60176               1.300940             -0.949128      1.183623   \n",
       "\n",
       "          PercentBAorHigher_19  PercentUnemployed_19  PercentWhite_19  \\\n",
       "zip_code                                                                \n",
       "60007                -0.155785             -1.133592         1.238157   \n",
       "60018                 1.008775             -1.307717         1.169475   \n",
       "60068                 1.145421             -1.262198        -0.314414   \n",
       "60131                 1.343139             -1.076484         1.460774   \n",
       "60176                -1.627849             -1.225635         1.072847   \n",
       "\n",
       "          HouseholdIncome_19  \n",
       "zip_code                      \n",
       "60007               1.498649  \n",
       "60018               0.967418  \n",
       "60068               1.048239  \n",
       "60131               1.458897  \n",
       "60176               1.031529  \n",
       "\n",
       "[5 rows x 50 columns]"
      ]
     },
     "execution_count": 56,
     "metadata": {},
     "output_type": "execute_result"
    }
   ],
   "source": [
    "# gdf = gdf.loc[ctuids[ctuids_mask]]\n",
    "# gdf['label'] = labels[ctuids_mask]\n",
    "# gdf['zipcode'] = ctuids[ctuids_mask].astype(str) # no sufficient unique zipcode names in ct_df\n",
    "\n",
    "years = list(map(str, range(12, 20))) # change in current year wrt prev year\n",
    "\n",
    "gdf['label'] = list(map(lambda x: f\" {tuple([x_vars[i] for i in important_feature_set[x]])}\", labels))\n",
    "\n",
    "for t in range(len(years)):\n",
    "    gdf[[v + \"_\" + years[t] for v in x_vars + y_var]] = ts_arr[t, :, :]\n",
    "\n",
    "gdf.head()"
   ]
  },
  {
   "cell_type": "code",
   "execution_count": 57,
   "id": "676d7b18",
   "metadata": {},
   "outputs": [
    {
     "data": {
      "image/png": "[encoded data removed]",
      "text/plain": [
       "<Figure size 640x480 with 1 Axes>"
      ]
     },
     "metadata": {},
     "output_type": "display_data"
    }
   ],
   "source": [
    "cmap = pl.cm.get_cmap('rainbow')\n",
    "\n",
    "k = len(np.unique(labels))\n",
    "\n",
    "norm = plt.Normalize(vmin=0, vmax=k-1)\n",
    "\n",
    "gdf.plot(column='label', legend=True, categorical=True, cmap=cmap, legend_kwds={'loc': (0, -0.15)})\n",
    "gdf.boundary.plot(color='k', linewidth=0.5, ax=plt.gca())\n",
    "plt.axis('off') \n",
    "plt.savefig('Chicago_census_GCT_choropleth_k5.svg', bbox_inches='tight')\n",
    "plt.show()"
   ]
  },
  {
   "cell_type": "code",
   "execution_count": 58,
   "id": "864a5209",
   "metadata": {},
   "outputs": [
    {
     "data": {
      "text/plain": [
       "{0: (3,), 1: (2,), 2: (0,)}"
      ]
     },
     "execution_count": 58,
     "metadata": {},
     "output_type": "execute_result"
    }
   ],
   "source": [
    "important_feature_set"
   ]
  },
  {
   "cell_type": "code",
   "execution_count": 59,
   "id": "d65231be",
   "metadata": {},
   "outputs": [
    {
     "data": {
      "text/plain": [
       "['PopulationDensity',\n",
       " 'MedianAge',\n",
       " 'PercentBAorHigher',\n",
       " 'PercentUnemployed',\n",
       " 'PercentWhite']"
      ]
     },
     "execution_count": 59,
     "metadata": {},
     "output_type": "execute_result"
    }
   ],
   "source": [
    "x_vars"
   ]
  },
  {
   "cell_type": "code",
   "execution_count": 60,
   "id": "b4b70230",
   "metadata": {},
   "outputs": [
    {
     "data": {
      "text/plain": [
       "{0: ['PercentUnemployed'], 1: ['PercentBAorHigher'], 2: ['PopulationDensity']}"
      ]
     },
     "execution_count": 60,
     "metadata": {},
     "output_type": "execute_result"
    }
   ],
   "source": [
    "{k: [x_vars[i] for i in v] for k, v in important_feature_set.items()}"
   ]
  },
  {
   "cell_type": "code",
   "execution_count": 61,
   "id": "030384bd",
   "metadata": {},
   "outputs": [
    {
     "data": {
      "text/plain": [
       "array([60007, 60018, 60068, 60131, 60176, 60601, 60602, 60603, 60604,\n",
       "       60605, 60606, 60607, 60608, 60609, 60610, 60611, 60612, 60613,\n",
       "       60614, 60615, 60616, 60617, 60618, 60619, 60620, 60621, 60622,\n",
       "       60623, 60624, 60625, 60626, 60628, 60629, 60630, 60631, 60632,\n",
       "       60633, 60634, 60636, 60637, 60638, 60639, 60640, 60641, 60642,\n",
       "       60643, 60644, 60645, 60646, 60647, 60649, 60651, 60652, 60653,\n",
       "       60654, 60655, 60656, 60657, 60659, 60660, 60661, 60706, 60707,\n",
       "       60714, 60804, 60827])"
      ]
     },
     "execution_count": 61,
     "metadata": {},
     "output_type": "execute_result"
    }
   ],
   "source": [
    "chicago_zipcodes = zip_codes[chicago_mask]\n",
    "chicago_zipcodes"
   ]
  },
  {
   "cell_type": "markdown",
   "id": "39c6de1d",
   "metadata": {},
   "source": [
    "## Clusters"
   ]
  },
  {
   "cell_type": "code",
   "execution_count": 62,
   "id": "44eb468a",
   "metadata": {},
   "outputs": [
    {
     "name": "stdout",
     "output_type": "stream",
     "text": [
      "60609\n"
     ]
    },
    {
     "data": {
      "text/plain": [
       "array([-0.99805895,  0.38852828,  0.26336925])"
      ]
     },
     "execution_count": 62,
     "metadata": {},
     "output_type": "execute_result"
    }
   ],
   "source": [
    "j = 0\n",
    "arr = ts_arr[:, labels==j, :].copy()\n",
    "\n",
    "lrs = np.array([get_likelihoods(arr[:, [i], :], {0: important_feature_set[j]}, maxlag=1, fit_intercept=True, lambda_reg=0, which='unrestricted', return_thetas=True)[0] for i in range(arr.shape[1])])\n",
    "max_lr_idx = np.argmax(lrs.flatten())\n",
    "zc = zip_codes[chicago_mask][labels == j][max_lr_idx]\n",
    "print(zc)\n",
    "\n",
    "get_likelihoods(arr[:, [max_lr_idx], :], {0: important_feature_set[j]}, maxlag=1, fit_intercept=True, lambda_reg=0, which='unrestricted', return_thetas=True)[1]\n",
    "\n",
    "# first feature is the feature of interest, target and intercept are last"
   ]
  },
  {
   "cell_type": "code",
   "execution_count": 63,
   "id": "8f4c0a31",
   "metadata": {},
   "outputs": [
    {
     "data": {
      "image/png": "[encoded data removed]",
      "text/plain": [
       "<Figure size 640x480 with 1 Axes>"
      ]
     },
     "metadata": {},
     "output_type": "display_data"
    }
   ],
   "source": [
    "var_idx = important_feature_set[j]\n",
    "\n",
    "if len(var_idx) > 1:\n",
    "    fig = plt.figure(figsize=(12, 4))\n",
    "    \n",
    "x_year = np.arange(2011, 2019).astype(int)\n",
    "\n",
    "for f in range(len(var_idx)):\n",
    "    plt.subplot(1, len(var_idx), f+1)\n",
    "    plt.plot(x_year, ts_arr[:-1, chicago_zipcodes == zc, var_idx[f]].flatten(), label=f\"current year's {x_vars[var_idx[f]]}\", marker='*')\n",
    "    plt.plot(x_year, ts_arr[1:, chicago_zipcodes == zc, -1].flatten(), label=f\"next year's {y_var[0]}\", marker='*')\n",
    "    plt.ylabel(\"zscore value\")\n",
    "    plt.xlabel('Year')\n",
    "    plt.xticks(x_year[::2], x_year[::2])\n",
    "\n",
    "    plt.legend(loc=(0, -0.3))\n",
    "\n",
    "plt.suptitle(f\"cluster: {tuple([x_vars[f] for f in var_idx])}, zipcode: {zc}\")\n",
    "plt.savefig(f'Census_cluster_{j}.svg', bbox_inches='tight')\n",
    "plt.show()\n"
   ]
  },
  {
   "cell_type": "code",
   "execution_count": 64,
   "id": "6f277856",
   "metadata": {},
   "outputs": [
    {
     "name": "stdout",
     "output_type": "stream",
     "text": [
      "Test Statistic: -1.4938144794125137\n",
      "P-value: 0.763556308220112\n",
      "Critical Values: [-6.14522163 -4.34824633 -3.70584592]\n"
     ]
    }
   ],
   "source": [
    "zip_code_ts_arr = ts_arr[:, chicago_zipcodes == zc, :]\n",
    "\n",
    "if len(var_idx) == 1:\n",
    "    coint_t, p_value, critical_values = coint(zip_code_ts_arr[1:, 0, -1], zip_code_ts_arr[:-1, 0, var_idx], trend='c', maxlag=1, autolag=None)\n",
    "\n",
    "    print(f\"Test Statistic: {coint_t}\")\n",
    "    print(f\"P-value: {p_value}\")\n",
    "    print(f\"Critical Values: {critical_values}\")\n",
    "\n",
    "else:\n",
    "        \n",
    "    result = coint_johansen(zip_code_ts_arr[:, 0, list(var_idx)+[-1]], det_order=0, k_ar_diff=0)\n",
    "        \n",
    "    # Check the trace statistic against critical values\n",
    "    for i, trace_stat in enumerate(result.lr1):\n",
    "        critical_value_90 = result.cvt[i, 0]  # 90% critical value\n",
    "        \n",
    "        # If trace statistic is greater than the 90% critical value, print the critical values\n",
    "        if trace_stat > critical_value_90:\n",
    "            print(f\"Rank {i}: Trace statistic ({trace_stat}) > 90% critical value ({critical_value_90})\")\n",
    "            print(\"Cointegrating relationship exists!\")\n",
    "            print(f\"Critical values (90%, 95%, 99%): {result.cvt[i]}\")\n",
    "\n",
    "            break\n",
    "\n",
    "    else:\n",
    "        print(\"Not cointegrating\")"
   ]
  },
  {
   "cell_type": "code",
   "execution_count": 65,
   "id": "e59906ca",
   "metadata": {},
   "outputs": [
    {
     "data": {
      "image/png": "[encoded data removed]",
      "text/plain": [
       "<Figure size 640x480 with 1 Axes>"
      ]
     },
     "metadata": {},
     "output_type": "display_data"
    }
   ],
   "source": [
    "\n",
    "if len(var_idx) > 1:\n",
    "    fig = plt.figure(figsize=(12, 4))\n",
    "for f in range(len(var_idx)):\n",
    "    plt.subplot(1, len(var_idx), f+1)\n",
    "    plt.scatter(zip_code_ts_arr[:-1, 0, var_idx[f]], zip_code_ts_arr[1:, 0, -1])\n",
    "    plt.xlabel(f\"current year's {x_vars[var_idx[f]]} (zscore)\")\n",
    "\n",
    "    if f == 0:\n",
    "        plt.ylabel(f\"next year's {y_var[0]} (zscore)\")\n",
    "\n",
    "plt.suptitle(f\"cluster: {tuple([x_vars[f] for f in var_idx])}, zipcode: {zc}\")\n",
    "# plt.savefig(f'BP_cluster_{j}.svg', bbox_inches='tight')\n",
    "plt.show()"
   ]
  },
  {
   "cell_type": "code",
   "execution_count": 66,
   "metadata": {},
   "outputs": [
    {
     "name": "stdout",
     "output_type": "stream",
     "text": [
      "60639\n"
     ]
    },
    {
     "data": {
      "text/plain": [
       "array([0.60259098, 0.75308658, 0.38301101])"
      ]
     },
     "execution_count": 66,
     "metadata": {},
     "output_type": "execute_result"
    }
   ],
   "source": [
    "j = 1\n",
    "arr = ts_arr[:, labels==j, :].copy()\n",
    "\n",
    "lrs = np.array([get_likelihoods(arr[:, [i], :], {0: important_feature_set[j]}, maxlag=1, fit_intercept=True, lambda_reg=0, which='unrestricted', return_thetas=True)[0] for i in range(arr.shape[1])])\n",
    "max_lr_idx = np.argmax(lrs.flatten())\n",
    "zc = zip_codes[chicago_mask][labels == j][max_lr_idx]\n",
    "print(zc)\n",
    "get_likelihoods(arr[:, [max_lr_idx], :], {0: important_feature_set[j]}, maxlag=1, fit_intercept=True, lambda_reg=0, which='unrestricted', return_thetas=True)[1]\n",
    "\n",
    "# first feature is the feature of interest, target and intercept are last"
   ]
  },
  {
   "cell_type": "code",
   "execution_count": 67,
   "metadata": {},
   "outputs": [
    {
     "data": {
      "image/png": "[encoded data removed]",
      "text/plain": [
       "<Figure size 640x480 with 1 Axes>"
      ]
     },
     "metadata": {},
     "output_type": "display_data"
    }
   ],
   "source": [
    "var_idx = important_feature_set[j]\n",
    "\n",
    "if len(var_idx) > 1:\n",
    "    fig = plt.figure(figsize=(12, 4))\n",
    "    \n",
    "x_year = np.arange(2011, 2019).astype(int)\n",
    "\n",
    "for f in range(len(var_idx)):\n",
    "    plt.subplot(1, len(var_idx), f+1)\n",
    "    plt.plot(x_year, ts_arr[:-1, chicago_zipcodes == zc, var_idx[f]].flatten(), label=f\"current year's {x_vars[var_idx[f]]}\", marker='*')\n",
    "    plt.plot(x_year, ts_arr[1:, chicago_zipcodes == zc, -1].flatten(), label=f\"next year's {y_var[0]}\", marker='*')\n",
    "    plt.ylabel(\"zscore value\")\n",
    "    plt.xlabel('Year')\n",
    "    plt.xticks(x_year[::2], x_year[::2])\n",
    "\n",
    "    plt.legend(loc=(0, -0.3))\n",
    "\n",
    "plt.suptitle(f\"cluster: {tuple([x_vars[f] for f in var_idx])}, zipcode: {zc}\")\n",
    "plt.savefig(f'Census_cluster_{j}.svg', bbox_inches='tight')\n",
    "plt.show()\n"
   ]
  },
  {
   "cell_type": "code",
   "execution_count": 68,
   "id": "44de77ac",
   "metadata": {},
   "outputs": [
    {
     "name": "stdout",
     "output_type": "stream",
     "text": [
      "Test Statistic: -4.368087618966349\n",
      "P-value: 0.002000658367243182\n",
      "Critical Values: [-6.14522163 -4.34824633 -3.70584592]\n"
     ]
    }
   ],
   "source": [
    "zip_code_ts_arr = ts_arr[:, chicago_zipcodes == zc, :]\n",
    "\n",
    "if len(var_idx) == 1:\n",
    "    coint_t, p_value, critical_values = coint(zip_code_ts_arr[1:, 0, -1], zip_code_ts_arr[:-1, 0, var_idx], trend='c', maxlag=1, autolag=None)\n",
    "\n",
    "    print(f\"Test Statistic: {coint_t}\")\n",
    "    print(f\"P-value: {p_value}\")\n",
    "    print(f\"Critical Values: {critical_values}\")\n",
    "\n",
    "else:\n",
    "        \n",
    "    result = coint_johansen(zip_code_ts_arr[:, 0, list(var_idx)+[-1]], det_order=0, k_ar_diff=0)\n",
    "        \n",
    "    # Check the trace statistic against critical values\n",
    "    for i, trace_stat in enumerate(result.lr1):\n",
    "        critical_value_90 = result.cvt[i, 0]  # 90% critical value\n",
    "        \n",
    "        # If trace statistic is greater than the 90% critical value, print the critical values\n",
    "        if trace_stat > critical_value_90:\n",
    "            print(f\"Rank {i}: Trace statistic ({trace_stat}) > 90% critical value ({critical_value_90})\")\n",
    "            print(\"Cointegrating relationship exists!\")\n",
    "            print(f\"Critical values (90%, 95%, 99%): {result.cvt[i]}\")\n",
    "\n",
    "            break\n",
    "\n",
    "    else:\n",
    "        print(\"Not cointegrating\")"
   ]
  },
  {
   "cell_type": "code",
   "execution_count": 69,
   "id": "d859603d",
   "metadata": {},
   "outputs": [
    {
     "data": {
      "image/png": "[encoded data removed]",
      "text/plain": [
       "<Figure size 640x480 with 1 Axes>"
      ]
     },
     "metadata": {},
     "output_type": "display_data"
    }
   ],
   "source": [
    "\n",
    "if len(var_idx) > 1:\n",
    "    fig = plt.figure(figsize=(12, 4))\n",
    "for f in range(len(var_idx)):\n",
    "    plt.subplot(1, len(var_idx), f+1)\n",
    "    plt.scatter(zip_code_ts_arr[:-1, 0, var_idx[f]], zip_code_ts_arr[1:, 0, -1])\n",
    "    plt.xlabel(f\"current year's {x_vars[var_idx[f]]} (zscore)\")\n",
    "\n",
    "    if f == 0:\n",
    "        plt.ylabel(f\"next year's {y_var[0]} (zscore)\")\n",
    "\n",
    "plt.suptitle(f\"cluster: {tuple([x_vars[f] for f in var_idx])}, zipcode: {zc}\")\n",
    "# plt.savefig(f'BP_cluster_{j}.svg', bbox_inches='tight')\n",
    "plt.show()"
   ]
  },
  {
   "cell_type": "code",
   "execution_count": 70,
   "id": "fa49a36a",
   "metadata": {},
   "outputs": [
    {
     "name": "stdout",
     "output_type": "stream",
     "text": [
      "60633\n"
     ]
    },
    {
     "data": {
      "text/plain": [
       "array([-0.9699364 ,  0.03490498,  0.24041478])"
      ]
     },
     "execution_count": 70,
     "metadata": {},
     "output_type": "execute_result"
    }
   ],
   "source": [
    "j = 2\n",
    "arr = ts_arr[:, labels==j, :].copy()\n",
    "\n",
    "lrs = np.array([get_likelihoods(arr[:, [i], :], {0: important_feature_set[j]}, maxlag=1, fit_intercept=True, lambda_reg=0, which='unrestricted', return_thetas=True)[0] for i in range(arr.shape[1])])\n",
    "max_lr_idx = np.argmax(lrs.flatten())\n",
    "zc = zip_codes[chicago_mask][labels == j][max_lr_idx]\n",
    "print(zc)\n",
    "get_likelihoods(arr[:, [max_lr_idx], :], {0: important_feature_set[j]}, maxlag=1, fit_intercept=True, lambda_reg=0, which='unrestricted', return_thetas=True)[1]\n",
    "\n",
    "# first feature is the feature of interest, target and intercept are last"
   ]
  },
  {
   "cell_type": "code",
   "execution_count": 71,
   "id": "16cc90e1",
   "metadata": {},
   "outputs": [
    {
     "data": {
      "image/png": "[encoded data removed]",
      "text/plain": [
       "<Figure size 640x480 with 1 Axes>"
      ]
     },
     "metadata": {},
     "output_type": "display_data"
    }
   ],
   "source": [
    "var_idx = important_feature_set[j]\n",
    "\n",
    "if len(var_idx) > 1:\n",
    "    fig = plt.figure(figsize=(12, 4))\n",
    "    \n",
    "x_year = np.arange(2011, 2019).astype(int)\n",
    "\n",
    "for f in range(len(var_idx)):\n",
    "    plt.subplot(1, len(var_idx), f+1)\n",
    "    plt.plot(x_year, ts_arr[:-1, chicago_zipcodes == zc, var_idx[f]].flatten(), label=f\"current year's {x_vars[var_idx[f]]}\", marker='*')\n",
    "    plt.plot(x_year, ts_arr[1:, chicago_zipcodes == zc, -1].flatten(), label=f\"next year's {y_var[0]}\", marker='*')\n",
    "    plt.ylabel(\"zscore value\")\n",
    "    plt.xlabel('Year')\n",
    "    plt.xticks(x_year[::2], x_year[::2])\n",
    "\n",
    "    plt.legend(loc=(0, -0.3))\n",
    "\n",
    "plt.suptitle(f\"cluster: {tuple([x_vars[f] for f in var_idx])}, zipcode: {zc}\")\n",
    "plt.savefig(f'Census_cluster_{j}.svg', bbox_inches='tight')\n",
    "plt.show()\n"
   ]
  },
  {
   "cell_type": "code",
   "execution_count": 72,
   "id": "c1d6adf3",
   "metadata": {},
   "outputs": [
    {
     "name": "stdout",
     "output_type": "stream",
     "text": [
      "Test Statistic: -1.9507163775291538\n",
      "P-value: 0.5540817616576513\n",
      "Critical Values: [-6.14522163 -4.34824633 -3.70584592]\n"
     ]
    }
   ],
   "source": [
    "zip_code_ts_arr = ts_arr[:, chicago_zipcodes == zc, :]\n",
    "\n",
    "if len(var_idx) == 1:\n",
    "    coint_t, p_value, critical_values = coint(zip_code_ts_arr[1:, 0, -1], zip_code_ts_arr[:-1, 0, var_idx], trend='c', maxlag=1, autolag=None)\n",
    "\n",
    "    print(f\"Test Statistic: {coint_t}\")\n",
    "    print(f\"P-value: {p_value}\")\n",
    "    print(f\"Critical Values: {critical_values}\")\n",
    "\n",
    "else:\n",
    "        \n",
    "    result = coint_johansen(zip_code_ts_arr[:, 0, list(var_idx)+[-1]], det_order=0, k_ar_diff=0)\n",
    "        \n",
    "    # Check the trace statistic against critical values\n",
    "    for i, trace_stat in enumerate(result.lr1):\n",
    "        critical_value_90 = result.cvt[i, 0]  # 90% critical value\n",
    "        \n",
    "        # If trace statistic is greater than the 90% critical value, print the critical values\n",
    "        if trace_stat > critical_value_90:\n",
    "            print(f\"Rank {i}: Trace statistic ({trace_stat}) > 90% critical value ({critical_value_90})\")\n",
    "            print(\"Cointegrating relationship exists!\")\n",
    "            print(f\"Critical values (90%, 95%, 99%): {result.cvt[i]}\")\n",
    "\n",
    "            break\n",
    "\n",
    "    else:\n",
    "        print(\"Not cointegrating\")"
   ]
  },
  {
   "cell_type": "code",
   "execution_count": 73,
   "id": "1db1909d",
   "metadata": {},
   "outputs": [
    {
     "data": {
      "image/png": "[encoded data removed]",
      "text/plain": [
       "<Figure size 640x480 with 1 Axes>"
      ]
     },
     "metadata": {},
     "output_type": "display_data"
    }
   ],
   "source": [
    "\n",
    "if len(var_idx) > 1:\n",
    "    fig = plt.figure(figsize=(12, 4))\n",
    "for f in range(len(var_idx)):\n",
    "    plt.subplot(1, len(var_idx), f+1)\n",
    "    plt.scatter(zip_code_ts_arr[:-1, 0, var_idx[f]], zip_code_ts_arr[1:, 0, -1])\n",
    "    plt.xlabel(f\"current year's {x_vars[var_idx[f]]} (zscore)\")\n",
    "\n",
    "    if f == 0:\n",
    "        plt.ylabel(f\"next year's {y_var[0]} (zscore)\")\n",
    "\n",
    "plt.suptitle(f\"cluster: {tuple([x_vars[f] for f in var_idx])}, zipcode: {zc}\")\n",
    "# plt.savefig(f'BP_cluster_{j}.svg', bbox_inches='tight')\n",
    "plt.show()"
   ]
  },
  {
   "cell_type": "code",
   "execution_count": null,
   "id": "6838ae3d",
   "metadata": {},
   "outputs": [],
   "source": []
  },
  {
   "cell_type": "code",
   "execution_count": null,
   "id": "d79eb207",
   "metadata": {},
   "outputs": [],
   "source": []
  },
  {
   "cell_type": "code",
   "execution_count": null,
   "id": "76e17628",
   "metadata": {},
   "outputs": [],
   "source": [
    "j = 3\n",
    "arr = ts_arr[:, labels==j, :].copy()\n",
    "\n",
    "lrs = np.array([get_likelihoods(arr[:, [i], :], {0: important_feature_set[j]}, maxlag=1, fit_intercept=True, lambda_reg=0, which='unrestricted', return_thetas=True)[0] for i in range(arr.shape[1])])\n",
    "max_lr_idx = np.argmax(lrs.flatten())\n",
    "zc = zip_codes[chicago_mask][labels == j][max_lr_idx]\n",
    "print(zc)\n",
    "get_likelihoods(arr[:, [max_lr_idx], :], {0: important_feature_set[j]}, maxlag=1, fit_intercept=True, lambda_reg=0, which='unrestricted', return_thetas=True)[1]\n",
    "\n",
    "# first feature is the feature of interest, target and intercept are last"
   ]
  },
  {
   "cell_type": "code",
   "execution_count": null,
   "id": "a497fa2a",
   "metadata": {},
   "outputs": [],
   "source": [
    "var_idx = important_feature_set[j][0] if len(important_feature_set[j]) == 1 else None\n",
    "# zc = 60636\n",
    "plt.plot(np.arange(2011, 2019), ts_arr[:-1, chicago_zipcodes == zc, var_idx].flatten(), label=f\"current year's {x_vars[var_idx]}\", marker='*')\n",
    "plt.plot(np.arange(2011, 2019), ts_arr[1:, chicago_zipcodes == zc, -1].flatten(), label=\"next year's median income\", marker='*')\n",
    "plt.ylabel(\"zscore value\")\n",
    "plt.xlabel('Year')\n",
    "plt.legend()\n",
    "plt.title(f\"cluster: {var_idx}, zipcode: {zc}\")\n",
    "plt.savefig(f'Census_cluster_{j}.svg', bbox_inches='tight')\n",
    "plt.show()"
   ]
  },
  {
   "cell_type": "code",
   "execution_count": null,
   "id": "298552e6",
   "metadata": {},
   "outputs": [],
   "source": [
    "zip_code_ts_arr = ts_arr[:, chicago_zipcodes == zc, :]\n",
    "coint_t, p_value, critical_values = coint(zip_code_ts_arr[1:, 0, -1], zip_code_ts_arr[:-1, 0, var_idx], trend='c', maxlag=1, autolag=None)\n",
    "\n",
    "print(f\"Test Statistic: {coint_t}\")\n",
    "print(f\"P-value: {p_value}\")\n",
    "print(f\"Critical Values: {critical_values}\")"
   ]
  },
  {
   "cell_type": "code",
   "execution_count": null,
   "id": "71ef0934",
   "metadata": {},
   "outputs": [],
   "source": [
    "plt.scatter(zip_code_ts_arr[:-1, 0, var_idx], zip_code_ts_arr[1:, 0, -1])\n",
    "plt.xlabel(f\"current year's {x_vars[var_idx]} (zscore)\")\n",
    "plt.ylabel(\"next year's median income (zscore)\")\n",
    "plt.title(f\"cluster: {var_idx}, zipcode: {zc}\")\n",
    "# plt.savefig(f'Census_cluster_{j}.svg', bbox_inches='tight')\n",
    "plt.show()"
   ]
  },
  {
   "cell_type": "code",
   "execution_count": null,
   "id": "519baf19",
   "metadata": {},
   "outputs": [],
   "source": [
    "j = 4\n",
    "arr = ts_arr[:, labels==j, :].copy()\n",
    "\n",
    "lrs = np.array([get_likelihoods(arr[:, [i], :], {0: important_feature_set[j]}, maxlag=1, fit_intercept=True, lambda_reg=0, which='unrestricted', return_thetas=True)[0] for i in range(arr.shape[1])])\n",
    "max_lr_idx = np.argmax(lrs.flatten())\n",
    "zc = zip_codes[chicago_mask][labels == j][max_lr_idx]\n",
    "print(zc)\n",
    "get_likelihoods(arr[:, [max_lr_idx], :], {0: important_feature_set[j]}, maxlag=1, fit_intercept=True, lambda_reg=0, which='unrestricted', return_thetas=True)[1]\n",
    "\n",
    "# first feature is the feature of interest, target and intercept are last"
   ]
  },
  {
   "cell_type": "code",
   "execution_count": null,
   "id": "77ad2deb",
   "metadata": {},
   "outputs": [],
   "source": [
    "var_idx = important_feature_set[j][0] if len(important_feature_set[j]) == 1 else None\n",
    "# zc = 60636\n",
    "\n",
    "# fig = plt.figure(figsize=(15, 4))\n",
    "\n",
    "# plt.subplot(121)\n",
    "plt.plot(np.arange(2011, 2019), ts_arr[:-1, chicago_zipcodes == zc, var_idx].flatten(), label=f\"current year's {x_vars[var_idx]}\", marker='*')\n",
    "plt.plot(np.arange(2011, 2019), ts_arr[1:, chicago_zipcodes == zc, -1].flatten(), label=\"next year's median income\", marker='*')\n",
    "plt.ylabel(\"zscore value\")\n",
    "plt.xlabel('Year')\n",
    "plt.legend()\n",
    "\n",
    "# var_idx = 4\n",
    "# plt.subplot(122)\n",
    "# plt.plot(np.arange(2012, 2019), ts_arr[:-1, chicago_zipcodes == zc, var_idx].flatten(), label=f\"current year's {x_vars[var_idx]}\", marker='*')\n",
    "# plt.plot(np.arange(2012, 2019), ts_arr[1:, chicago_zipcodes == zc, -1].flatten(), label=\"next year's median income\", marker='*')\n",
    "# plt.ylabel(\"change in zscore value\")\n",
    "# plt.xlabel('Year')\n",
    "# plt.legend()\n",
    "\n",
    "plt.title(f\"cluster: {var_idx}, zipcode: {zc}\")\n",
    "plt.savefig(f'Census_cluster_{j}.svg', bbox_inches='tight')\n",
    "plt.show()"
   ]
  },
  {
   "cell_type": "code",
   "execution_count": null,
   "id": "ba48600f",
   "metadata": {},
   "outputs": [],
   "source": [
    "zip_code_ts_arr = ts_arr[:, chicago_zipcodes == zc, :]\n",
    "coint_t, p_value, critical_values = coint(zip_code_ts_arr[1:, 0, -1], zip_code_ts_arr[:-1, 0, var_idx], trend='c', maxlag=1, autolag=None)\n",
    "\n",
    "print(f\"Test Statistic: {coint_t}\")\n",
    "print(f\"P-value: {p_value}\")\n",
    "print(f\"Critical Values: {critical_values}\")"
   ]
  },
  {
   "cell_type": "code",
   "execution_count": null,
   "id": "fcfb7f42",
   "metadata": {},
   "outputs": [],
   "source": [
    "plt.scatter(zip_code_ts_arr[:-1, 0, var_idx], zip_code_ts_arr[1:, 0, -1])\n",
    "plt.xlabel(f\"current year's {x_vars[var_idx]} (zscore)\")\n",
    "plt.ylabel(\"next year's median income (zscore)\")\n",
    "plt.title(f\"cluster: {var_idx}, zipcode: {zc}\")\n",
    "# plt.savefig(f'Census_cluster_{j}.svg', bbox_inches='tight')\n",
    "plt.show()"
   ]
  },
  {
   "cell_type": "markdown",
   "id": "2487f0ad",
   "metadata": {},
   "source": [
    "# End Chicago"
   ]
  },
  {
   "cell_type": "code",
   "execution_count": null,
   "id": "09d94161",
   "metadata": {},
   "outputs": [],
   "source": []
  },
  {
   "cell_type": "code",
   "execution_count": null,
   "id": "d41abea1",
   "metadata": {},
   "outputs": [],
   "source": []
  },
  {
   "cell_type": "code",
   "execution_count": null,
   "id": "cf238160",
   "metadata": {},
   "outputs": [],
   "source": [
    "print_model(theta_u, vars=vars, maxlag=maxlag, sort_by_weights=True, fit_intercept=fit_intercept)"
   ]
  },
  {
   "cell_type": "code",
   "execution_count": null,
   "id": "d99e60bd",
   "metadata": {},
   "outputs": [],
   "source": [
    "def get_pred(X, theta_us, labels, maxlag, fit_intercept, y_col_idx=-1):\n",
    "    N = X.shape[1]\n",
    "    K = len(np.unique(labels))\n",
    "\n",
    "    arr = []\n",
    "\n",
    "    for i in np.arange(N):\n",
    "        Xi = X[:, i, :]\n",
    "        Xi_u, _, _ = create_design_data(Xi, maxlag=maxlag, y_col_idx=y_col_idx, fit_intercept=fit_intercept)\n",
    "\n",
    "        y_pred = np.matmul(Xi_u, theta_us[labels[i]])\n",
    "\n",
    "        arr.append(y_pred.flatten())\n",
    "\n",
    "    return np.array(arr)"
   ]
  },
  {
   "cell_type": "code",
   "execution_count": null,
   "id": "81873516",
   "metadata": {},
   "outputs": [],
   "source": [
    "# u_ptsc_pred = get_pred(ts_arr, theta_u, labels, maxlag, fit_intercept)\n",
    "# u_ptsc_pred.shape"
   ]
  },
  {
   "cell_type": "code",
   "execution_count": null,
   "id": "05503b5f",
   "metadata": {},
   "outputs": [],
   "source": [
    "# g_ptsc_pred = get_pred(ts_arr, theta_u, labels, maxlag, fit_intercept)\n",
    "# g_ptsc_pred.shape"
   ]
  },
  {
   "cell_type": "code",
   "execution_count": null,
   "id": "731825c4",
   "metadata": {},
   "outputs": [],
   "source": [
    "zip_codes_down_town_chicago = [60601, 60602, 60603, 60604, 60605, 60606, 60607, 60610, 60611, 60613, 60614, 60616, 60654, 60661]\n",
    "fig = plt.figure(figsize=(15, 15))\n",
    "\n",
    "for i in range(len(zip_codes_down_town_chicago)):\n",
    "    zip_i = zip_codes_down_town_chicago[i]\n",
    "    idx = np.arange(len(zip_codes))[zip_codes == zip_i]\n",
    "    arr = ts_arr[:, idx, :]\n",
    "    # fig, axes = tsp.plot(X=arr[:, :, [-1]], show_X_marker=True, title_list=y_var)\n",
    "    axes = [fig.add_subplot(5, 3, i+1)]\n",
    "\n",
    "    axes[-1].scatter(np.arange(1, arr.shape[0]), arr[1:, 0, [-1]])\n",
    "\n",
    "    ma = arr[:, 0, :].cumsum(axis=0) / np.arange(1, arr.shape[0]+1).reshape(-1, 1)\n",
    "\n",
    "\n",
    "\n",
    "    # for f in range(arr.shape[-1]):\n",
    "    #     # axes[f].plot(ma[:, f], label='MA')\n",
    "    #     # axes[f].plot(arr[1:, 0, f], label='y_future', marker='*')\n",
    "    #     ma = pd.Series(arr[:, 0, f]).expanding().mean()\n",
    "    #     axes[f].plot(ma.values, label='MA')\n",
    "\n",
    "    #     axes[f].legend()\n",
    "\n",
    "    axes[-1].plot(np.arange(arr.shape[0])[-u_ptsc_pred.shape[1]:], u_ptsc_pred[idx].flatten(), label='U_PTSC_pred', color='r', marker='.')\n",
    "    axes[-1].plot(np.arange(arr.shape[0])[-g_ptsc_pred.shape[1]:], g_ptsc_pred[idx].flatten(), label='G_PTSC_pred', color='g', marker='.')\n",
    "\n",
    "    # axes[-1].plot(np.arange(arr.shape[0])[-u_ptsc_pred.shape[1]:], u_ptsc_pred[idx].flatten().cumsum() / u_ptsc_pred.shape[1], color='r', ls='--', \n",
    "    #               label='MA_U_PTSC_pred')\n",
    "    # axes[-1].plot(np.arange(arr.shape[0])[-g_ptsc_pred.shape[1]:], g_ptsc_pred[idx].flatten().cumsum() / u_ptsc_pred.shape[1], color='g', ls='--',\n",
    "    #                label='MA_G_PTSC_pred')\n",
    "    axes[-1].set_title(str(zip_i))\n",
    "\n",
    "    plt.legend()\n",
    "\n",
    "plt.show()\n"
   ]
  },
  {
   "cell_type": "code",
   "execution_count": null,
   "id": "4caa8bbe",
   "metadata": {},
   "outputs": [],
   "source": [
    "## U-PTSC\n",
    "\n",
    "k = 3\n",
    "\n",
    "idx_mask = zip_codes == 60661 #labels == k\n",
    "\n",
    "fig = plt.figure(figsize=(15, 12))\n",
    "\n",
    "coef = list(theta_u[k][1:].flatten()) + list(theta_u[k][0].flatten())\n",
    "\n",
    "nrows, ncols = 3, 2\n",
    "\n",
    "for f in range(ts_arr.shape[-1]):\n",
    "    ax = fig.add_subplot(nrows, ncols, f+1)\n",
    "    ax.scatter(ts_arr[:-1, idx_mask, f], ts_arr[1:, idx_mask, -1], label='data')\n",
    "    # ax.scatter(ts_arr[:-1, idx_mask, f], u_ptsc_pred[idx_mask, :])\n",
    "    ax.plot(ts_arr[:-1, idx_mask, f].flatten(), ts_arr[:-1, idx_mask, f].flatten() * coef[f], color='r', label='coef')\n",
    "    \n",
    "    ax.set_xlabel(f\"current year's {(x_vars + y_var)[f]}\")\n",
    "\n",
    "    if f % ncols == 0:\n",
    "        ax.set_ylabel(\"next year's median income\")\n",
    "\n",
    "    ax.legend()\n",
    "\n",
    "plt.show()"
   ]
  },
  {
   "cell_type": "code",
   "execution_count": null,
   "id": "af8db87e",
   "metadata": {},
   "outputs": [],
   "source": [
    "## G-PTSC\n",
    "\n",
    "k = 0\n",
    "\n",
    "idx_mask = zip_codes == 60661 #labels == k\n",
    "\n",
    "fig = plt.figure(figsize=(15, 12))\n",
    "\n",
    "coef = list(theta_u[k][1:].flatten()) + list(theta_u[k][0].flatten())\n",
    "\n",
    "nrows, ncols = 3, 2\n",
    "\n",
    "for f in range(ts_arr.shape[-1]):\n",
    "    ax = fig.add_subplot(nrows, ncols, f+1)\n",
    "    ax.scatter(ts_arr[:-1, idx_mask, f], ts_arr[1:, idx_mask, -1], label='data')\n",
    "    # ax.scatter(ts_arr[:-1, idx_mask, f], u_ptsc_pred[idx_mask, :])\n",
    "    ax.plot(ts_arr[:-1, idx_mask, f].flatten(), ts_arr[:-1, idx_mask, f].flatten() * coef[f], color='r', label='coef')\n",
    "    \n",
    "    ax.set_xlabel(f\"current year's {(x_vars + y_var)[f]}\")\n",
    "\n",
    "    if f % ncols == 0:\n",
    "        ax.set_ylabel(\"next year's median income\")\n",
    "\n",
    "    ax.legend()\n",
    "\n",
    "plt.show()"
   ]
  },
  {
   "cell_type": "markdown",
   "id": "b49e0407",
   "metadata": {},
   "source": [
    "END"
   ]
  },
  {
   "cell_type": "code",
   "execution_count": null,
   "id": "e3518149",
   "metadata": {},
   "outputs": [],
   "source": [
    "k = 0\n",
    "gdf_ = gdf[gdf['label'] == f'Cluster {k}'].reset_index()\n",
    "gdf_['zip_code'] = gdf_['zip_code'].astype(str)\n",
    "gdf_['zip_code'] = gdf_['zip_code'][gdf_['zip_code'] == '60661']\n",
    "gdf_.plot(column='zip_code', legend=True, legend_kwds={'loc': (1.01, 0)}\n",
    "                                          )\n",
    "gdf.boundary.plot(color='k', linewidth=0.5, ax=plt.gca())\n",
    "plt.axis('off')\n",
    "plt.show()\n"
   ]
  },
  {
   "cell_type": "code",
   "execution_count": null,
   "id": "3b9085f4",
   "metadata": {},
   "outputs": [],
   "source": [
    "label_dict = {\n",
    "    'T': years,\n",
    "    'F': vars\n",
    "}\n",
    "tsp.waterfall_plot(ts_arr[:, np.argmax(ctuids==60646), :], label_dict=label_dict);"
   ]
  },
  {
   "cell_type": "code",
   "execution_count": null,
   "id": "b6609e65",
   "metadata": {},
   "outputs": [],
   "source": [
    "tsp.plot(X=ts_arr[:, :, :], label_dict=label_dict, entity_idx=[np.argmax(ctuids==60646)], entities_labels=['60646'],\n",
    "         show_all_entities=False, shape_of_subplot=(3, 2), figsize=(10, 8), annot_fontsize=10)\n",
    "plt.show()"
   ]
  },
  {
   "cell_type": "code",
   "execution_count": null,
   "id": "14d1fcc1",
   "metadata": {},
   "outputs": [],
   "source": [
    "k = 2\n",
    "gdf[gdf['label'] == k].plot(column='zipcode', legend=True, legend_kwds={'loc': (1.01, 0)})\n",
    "gdf[gdf['label'] == k].boundary.plot(color='k', linewidth=0.5, ax=plt.gca())\n",
    "plt.axis('off')\n",
    "plt.show()\n"
   ]
  },
  {
   "cell_type": "markdown",
   "id": "76252940",
   "metadata": {},
   "source": [
    "TotalPopulation"
   ]
  },
  {
   "cell_type": "code",
   "execution_count": null,
   "id": "91be4317",
   "metadata": {},
   "outputs": [],
   "source": [
    "\n",
    "var = 'TotalPopulation'\n",
    "\n",
    "fig = plt.figure(figsize=(12, 4))\n",
    "\n",
    "for i in range(len(years)):\n",
    "    ax = fig.add_subplot(3, 3, i+1)\n",
    "    gdf.plot(column=var+\"_\"+years[i], ax=ax, legend=True, cmap='rainbow')\n",
    "\n",
    "    plt.title(f\"year '{years[i]}\")\n",
    "    plt.axis('off') \n",
    "\n",
    "plt.suptitle(f\"change in {var}\")\n",
    "plt.savefig('Toronto_census_popdens_choropleth_k6.svg', bbox_inches='tight')\n",
    "\n",
    "plt.show()"
   ]
  },
  {
   "cell_type": "markdown",
   "id": "bdff89c8",
   "metadata": {},
   "source": [
    "MedianAge(years)"
   ]
  },
  {
   "cell_type": "code",
   "execution_count": null,
   "id": "a9720e03",
   "metadata": {},
   "outputs": [],
   "source": [
    "var = 'MedianAge(years)'\n",
    "\n",
    "fig = plt.figure(figsize=(12, 4))\n",
    "\n",
    "for i in range(len(years)):\n",
    "    ax = fig.add_subplot(3, 3, i+1)\n",
    "    gdf.plot(column=var+\"_\"+years[i], ax=ax, legend=True, cmap='rainbow')\n",
    "\n",
    "    plt.title(f\"year '{years[i]}\")\n",
    "    plt.axis('off') \n",
    "\n",
    "plt.suptitle(f\"change in {var}\")\n",
    "plt.savefig('Toronto_census_dwhirise_choropleth_k6.svg', bbox_inches='tight')\n",
    "\n",
    "plt.show()"
   ]
  },
  {
   "cell_type": "markdown",
   "id": "136500e6",
   "metadata": {},
   "source": [
    "PercentBAOrHigher"
   ]
  },
  {
   "cell_type": "code",
   "execution_count": null,
   "id": "7d0851e1",
   "metadata": {},
   "outputs": [],
   "source": [
    "var = 'PercentBAOrHigher'\n",
    "\n",
    "fig = plt.figure(figsize=(12, 4))\n",
    "\n",
    "for i in range(len(years)):\n",
    "    ax = fig.add_subplot(3, 3, i+1)\n",
    "    gdf.plot(column=var+\"_\"+years[i], ax=ax, legend=True, cmap='rainbow')\n",
    "\n",
    "    plt.title(f\"year '{years[i]}\")\n",
    "    plt.axis('off') \n",
    "\n",
    "plt.suptitle(f\"change in {var}\")\n",
    "plt.savefig('Toronto_census_ageyouth_choropleth_k6.svg', bbox_inches='tight')\n",
    "\n",
    "plt.show()"
   ]
  },
  {
   "cell_type": "markdown",
   "id": "bd848d3a",
   "metadata": {},
   "source": [
    "PercentUnemployed"
   ]
  },
  {
   "cell_type": "code",
   "execution_count": null,
   "id": "b95501e0",
   "metadata": {},
   "outputs": [],
   "source": [
    "var = 'PercentUnemployed'\n",
    "\n",
    "fig = plt.figure(figsize=(12, 4))\n",
    "\n",
    "for i in range(len(years)):\n",
    "    ax = fig.add_subplot(3, 3, i+1)\n",
    "    gdf.plot(column=var+\"_\"+years[i], ax=ax, legend=True, cmap='rainbow')\n",
    "\n",
    "    plt.title(f\"year '{years[i]}\")\n",
    "    plt.axis('off') \n",
    "\n",
    "plt.suptitle(f\"change in {var}\")\n",
    "plt.savefig('Toronto_census_vmblack_choropleth_k6.svg', bbox_inches='tight')\n",
    "\n",
    "plt.show()"
   ]
  },
  {
   "cell_type": "markdown",
   "id": "78bd3d6f",
   "metadata": {},
   "source": [
    "HouseholdIncome"
   ]
  },
  {
   "cell_type": "code",
   "execution_count": null,
   "id": "ae172464",
   "metadata": {},
   "outputs": [],
   "source": [
    "var = 'HouseholdIncome'\n",
    "\n",
    "fig = plt.figure(figsize=(12, 4))\n",
    "\n",
    "for i in range(len(years)):\n",
    "    ax = fig.add_subplot(3, 3, i+1)\n",
    "    gdf.plot(column=var+\"_\"+years[i], ax=ax, legend=True, cmap='rainbow')\n",
    "\n",
    "    plt.title(f\"year '{years[i]}\")\n",
    "    plt.axis('off') \n",
    "\n",
    "plt.suptitle(f\"change in {var}\")\n",
    "plt.savefig('Toronto_census_unemp_choropleth_k6.svg', bbox_inches='tight')\n",
    "\n",
    "plt.show()"
   ]
  },
  {
   "cell_type": "markdown",
   "id": "0c2bb540",
   "metadata": {},
   "source": [
    "# End"
   ]
  },
  {
   "cell_type": "code",
   "execution_count": null,
   "id": "f5440c2b",
   "metadata": {},
   "outputs": [],
   "source": []
  }
 ],
 "metadata": {
  "kernelspec": {
   "display_name": "venv1",
   "language": "python",
   "name": "python3"
  },
  "language_info": {
   "codemirror_mode": {
    "name": "ipython",
    "version": 3
   },
   "file_extension": ".py",
   "mimetype": "text/x-python",
   "name": "python",
   "nbconvert_exporter": "python",
   "pygments_lexer": "ipython3",
   "version": "3.9.18"
  }
 },
 "nbformat": 4,
 "nbformat_minor": 5
}
